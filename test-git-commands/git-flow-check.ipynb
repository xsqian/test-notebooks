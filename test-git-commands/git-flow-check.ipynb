{
 "cells": [
  {
   "cell_type": "code",
   "execution_count": 25,
   "id": "14cefa02-69f4-4dbb-8c18-c34cd2d3dc1b",
   "metadata": {},
   "outputs": [],
   "source": [
    "import mlrun\n",
    "from mlrun.errors import MLRunRuntimeError\n",
    "from mlrun.runtimes import RunError\n",
    "import os"
   ]
  },
  {
   "cell_type": "code",
   "execution_count": 2,
   "id": "aa199890-943a-44b6-be1a-36e88b74ca11",
   "metadata": {},
   "outputs": [
    {
     "name": "stdout",
     "output_type": "stream",
     "text": [
      "> 2023-12-05 12:32:35,899 [info] Project loaded successfully: {'project_name': 'test-git-flow'}\n"
     ]
    }
   ],
   "source": [
    "project_name1 = \"test-git-flow\"\n",
    "project = mlrun.get_or_create_project(project_name1, \"./test-git-flow\")"
   ]
  },
  {
   "cell_type": "markdown",
   "id": "0463279c-a275-4fc7-9b0d-0ad4a50cd440",
   "metadata": {},
   "source": [
    "## Check set_source does change the project spec"
   ]
  },
  {
   "cell_type": "code",
   "execution_count": 3,
   "id": "c520c519-4b17-4eed-af06-2e2a7f48096a",
   "metadata": {},
   "outputs": [
    {
     "name": "stdout",
     "output_type": "stream",
     "text": [
      "> 2023-12-05 12:32:41,093 [warning] Failed to add git metadata, ignore if path is not part of a git repo.: {'path': './', 'error': '/User/automations/git-flow'}\n"
     ]
    }
   ],
   "source": [
    "source_path = \"git://github.com/mlrun/project-demo#main\"\n",
    "project.set_source(source_path, pull_at_runtime=True)\n",
    "assert project.spec.source==source_path"
   ]
  },
  {
   "cell_type": "markdown",
   "id": "e298a721-303e-4ff3-be3e-ecead757c4fc",
   "metadata": {},
   "source": [
    "## Check the auto_build parameter + check that pull_at_runtime=True works\n",
    "(There's no way of really checking if pull_at_runtime works like it should during automation tests.. So I'll check that it works with both values)"
   ]
  },
  {
   "cell_type": "code",
   "execution_count": 4,
   "id": "0f40befe-a15a-4615-8204-e3b60e641b34",
   "metadata": {},
   "outputs": [],
   "source": [
    "handler_name = \"gen_iris.iris_generator\"\n",
    "func1_name = \"func1-name\"\n",
    "func1 = project.set_function(handler=handler_name, name=func1_name, image=\"mlrun/mlrun\", kind=\"job\", with_repo=True)"
   ]
  },
  {
   "cell_type": "markdown",
   "id": "1fedb801-0174-450b-a814-04abe61cee21",
   "metadata": {},
   "source": [
    "### Run the function with auto_build=False\n",
    "#### We expect to receive an MLRunRuntimeError"
   ]
  },
  {
   "cell_type": "code",
   "execution_count": 5,
   "id": "8b9098be-51c9-4616-af83-b876366c833b",
   "metadata": {},
   "outputs": [
    {
     "name": "stdout",
     "output_type": "stream",
     "text": [
      "> 2023-12-05 12:32:45,280 [info] Storing function: {'name': 'func1-name-iris-generator', 'uid': '61eda4450b2a4c37a0e9508e6d201f81', 'db': 'http://mlrun-api:8080'}\n",
      "> 2023-12-05 12:32:45,595 [info] Job is running in the background, pod: func1-name-iris-generator-xfdjq\n"
     ]
    },
    {
     "data": {
      "text/html": [
       "<style>\n",
       ".dictlist {\n",
       "  background-color: #4EC64B;\n",
       "  text-align: center;\n",
       "  margin: 4px;\n",
       "  border-radius: 3px; padding: 0px 3px 1px 3px; display: inline-block;}\n",
       ".artifact {\n",
       "  cursor: pointer;\n",
       "  background-color: #4EC64B;\n",
       "  text-align: left;\n",
       "  margin: 4px; border-radius: 3px; padding: 0px 3px 1px 3px; display: inline-block;\n",
       "}\n",
       "div.block.hidden {\n",
       "  display: none;\n",
       "}\n",
       ".clickable {\n",
       "  cursor: pointer;\n",
       "}\n",
       ".ellipsis {\n",
       "  display: inline-block;\n",
       "  max-width: 60px;\n",
       "  white-space: nowrap;\n",
       "  overflow: hidden;\n",
       "  text-overflow: ellipsis;\n",
       "}\n",
       ".master-wrapper {\n",
       "  display: flex;\n",
       "  flex-flow: row nowrap;\n",
       "  justify-content: flex-start;\n",
       "  align-items: stretch;\n",
       "}\n",
       ".master-tbl {\n",
       "  flex: 3\n",
       "}\n",
       ".master-wrapper > div {\n",
       "  margin: 4px;\n",
       "  padding: 10px;\n",
       "}\n",
       "iframe.fileview {\n",
       "  border: 0 none;\n",
       "  height: 100%;\n",
       "  width: 100%;\n",
       "  white-space: pre-wrap;\n",
       "}\n",
       ".pane-header-title {\n",
       "  width: 80%;\n",
       "  font-weight: 500;\n",
       "}\n",
       ".pane-header {\n",
       "  line-height: 1;\n",
       "  background-color: #4EC64B;\n",
       "  padding: 3px;\n",
       "}\n",
       ".pane-header .close {\n",
       "  font-size: 20px;\n",
       "  font-weight: 700;\n",
       "  float: right;\n",
       "  margin-top: -5px;\n",
       "}\n",
       ".master-wrapper .right-pane {\n",
       "  border: 1px inset silver;\n",
       "  width: 40%;\n",
       "  min-height: 300px;\n",
       "  flex: 3\n",
       "  min-width: 500px;\n",
       "}\n",
       ".master-wrapper * {\n",
       "  box-sizing: border-box;\n",
       "}\n",
       "</style><script>\n",
       "function copyToClipboard(fld) {\n",
       "    if (document.queryCommandSupported && document.queryCommandSupported('copy')) {\n",
       "        var textarea = document.createElement('textarea');\n",
       "        textarea.textContent = fld.innerHTML;\n",
       "        textarea.style.position = 'fixed';\n",
       "        document.body.appendChild(textarea);\n",
       "        textarea.select();\n",
       "\n",
       "        try {\n",
       "            return document.execCommand('copy'); // Security exception may be thrown by some browsers.\n",
       "        } catch (ex) {\n",
       "\n",
       "        } finally {\n",
       "            document.body.removeChild(textarea);\n",
       "        }\n",
       "    }\n",
       "}\n",
       "function expandPanel(el) {\n",
       "  const panelName = \"#\" + el.getAttribute('paneName');\n",
       "  console.log(el.title);\n",
       "\n",
       "  document.querySelector(panelName + \"-title\").innerHTML = el.title\n",
       "  iframe = document.querySelector(panelName + \"-body\");\n",
       "\n",
       "  const tblcss = `<style> body { font-family: Arial, Helvetica, sans-serif;}\n",
       "    #csv { margin-bottom: 15px; }\n",
       "    #csv table { border-collapse: collapse;}\n",
       "    #csv table td { padding: 4px 8px; border: 1px solid silver;} </style>`;\n",
       "\n",
       "  function csvToHtmlTable(str) {\n",
       "    return '<div id=\"csv\"><table><tr><td>' +  str.replace(/[\\n\\r]+$/g, '').replace(/[\\n\\r]+/g, '</td></tr><tr><td>')\n",
       "      .replace(/,/g, '</td><td>') + '</td></tr></table></div>';\n",
       "  }\n",
       "\n",
       "  function reqListener () {\n",
       "    if (el.title.endsWith(\".csv\")) {\n",
       "      iframe.setAttribute(\"srcdoc\", tblcss + csvToHtmlTable(this.responseText));\n",
       "    } else {\n",
       "      iframe.setAttribute(\"srcdoc\", this.responseText);\n",
       "    }\n",
       "    console.log(this.responseText);\n",
       "  }\n",
       "\n",
       "  const oReq = new XMLHttpRequest();\n",
       "  oReq.addEventListener(\"load\", reqListener);\n",
       "  oReq.open(\"GET\", el.title);\n",
       "  oReq.send();\n",
       "\n",
       "\n",
       "  //iframe.src = el.title;\n",
       "  const resultPane = document.querySelector(panelName + \"-pane\");\n",
       "  if (resultPane.classList.contains(\"hidden\")) {\n",
       "    resultPane.classList.remove(\"hidden\");\n",
       "  }\n",
       "}\n",
       "function closePanel(el) {\n",
       "  const panelName = \"#\" + el.getAttribute('paneName')\n",
       "  const resultPane = document.querySelector(panelName + \"-pane\");\n",
       "  if (!resultPane.classList.contains(\"hidden\")) {\n",
       "    resultPane.classList.add(\"hidden\");\n",
       "  }\n",
       "}\n",
       "\n",
       "</script>\n",
       "<div class=\"master-wrapper\">\n",
       "  <div class=\"block master-tbl\"><div>\n",
       "<style scoped>\n",
       "    .dataframe tbody tr th:only-of-type {\n",
       "        vertical-align: middle;\n",
       "    }\n",
       "\n",
       "    .dataframe tbody tr th {\n",
       "        vertical-align: top;\n",
       "    }\n",
       "\n",
       "    .dataframe thead th {\n",
       "        text-align: right;\n",
       "    }\n",
       "</style>\n",
       "<table border=\"1\" class=\"dataframe\">\n",
       "  <thead>\n",
       "    <tr style=\"text-align: right;\">\n",
       "      <th>project</th>\n",
       "      <th>uid</th>\n",
       "      <th>iter</th>\n",
       "      <th>start</th>\n",
       "      <th>state</th>\n",
       "      <th>name</th>\n",
       "      <th>labels</th>\n",
       "      <th>inputs</th>\n",
       "      <th>parameters</th>\n",
       "      <th>results</th>\n",
       "      <th>artifacts</th>\n",
       "    </tr>\n",
       "  </thead>\n",
       "  <tbody>\n",
       "    <tr>\n",
       "      <td>test-git-flow-amite</td>\n",
       "      <td><div title=\"61eda4450b2a4c37a0e9508e6d201f81\"><a href=\"https://dashboard.default-tenant.app.task-force-1.iguazio-cd2.com/mlprojects/test-git-flow-amite/jobs/monitor/61eda4450b2a4c37a0e9508e6d201f81/overview\" target=\"_blank\" >...6d201f81</a></div></td>\n",
       "      <td>0</td>\n",
       "      <td>Dec 05 12:32:49</td>\n",
       "      <td>completed</td>\n",
       "      <td>func1-name-iris-generator</td>\n",
       "      <td><div class=\"dictlist\">v3io_user=amite</div><div class=\"dictlist\">kind=job</div><div class=\"dictlist\">owner=amite</div><div class=\"dictlist\">mlrun/client_version=1.5.2-rc1</div><div class=\"dictlist\">mlrun/client_python_version=3.9.16</div><div class=\"dictlist\">host=func1-name-iris-generator-xfdjq</div></td>\n",
       "      <td></td>\n",
       "      <td></td>\n",
       "      <td></td>\n",
       "      <td><div class=\"artifact\" onclick=\"expandPanel(this)\" paneName=\"resulte5114925\" title=\"files/v3io/projects/test-git-flow-amite/artifacts/func1-name-iris-generator/0/iris_dataset.csv\">iris_dataset</div></td>\n",
       "    </tr>\n",
       "  </tbody>\n",
       "</table>\n",
       "</div></div>\n",
       "  <div id=\"resulte5114925-pane\" class=\"right-pane block hidden\">\n",
       "    <div class=\"pane-header\">\n",
       "      <span id=\"resulte5114925-title\" class=\"pane-header-title\">Title</span>\n",
       "      <span onclick=\"closePanel(this)\" paneName=\"resulte5114925\" class=\"close clickable\">&times;</span>\n",
       "    </div>\n",
       "    <iframe class=\"fileview\" id=\"resulte5114925-body\"></iframe>\n",
       "  </div>\n",
       "</div>\n"
      ],
      "text/plain": [
       "<IPython.core.display.HTML object>"
      ]
     },
     "metadata": {},
     "output_type": "display_data"
    },
    {
     "name": "stdout",
     "output_type": "stream",
     "text": [
      "\n"
     ]
    },
    {
     "data": {
      "text/html": [
       "<b> > to track results use the .show() or .logs() methods  or <a href=\"https://dashboard.default-tenant.app.task-force-1.iguazio-cd2.com/mlprojects/test-git-flow-amite/jobs/monitor/61eda4450b2a4c37a0e9508e6d201f81/overview\" target=\"_blank\">click here</a> to open in UI</b>"
      ],
      "text/plain": [
       "<IPython.core.display.HTML object>"
      ]
     },
     "metadata": {},
     "output_type": "display_data"
    },
    {
     "name": "stdout",
     "output_type": "stream",
     "text": [
      "> 2023-12-05 12:32:58,744 [info] Run execution finished: {'status': 'completed', 'name': 'func1-name-iris-generator'}\n"
     ]
    }
   ],
   "source": [
    "try:\n",
    "    func1_run = project.run_function(func1_name, local=False, auto_build=False)\n",
    "except Exception as e:\n",
    "    assert isinstance(e, MLRunRuntimeError)"
   ]
  },
  {
   "cell_type": "markdown",
   "id": "ebad62f2-7f36-45db-94c1-788f85c4c9b1",
   "metadata": {},
   "source": [
    "### Now we set auto_build=True\n",
    "#### We expect the function to run successfully"
   ]
  },
  {
   "cell_type": "code",
   "execution_count": 6,
   "id": "7cf1a8db-bdd9-4df8-aaa0-25889bca96ad",
   "metadata": {},
   "outputs": [
    {
     "name": "stdout",
     "output_type": "stream",
     "text": [
      "> 2023-12-05 12:33:33,308 [info] Storing function: {'name': 'func1-name-iris-generator', 'uid': '570c0a85f1e34d8298d58c2dc0458e82', 'db': 'http://mlrun-api:8080'}\n",
      "> 2023-12-05 12:33:35,684 [info] Job is running in the background, pod: func1-name-iris-generator-p72h7\n"
     ]
    },
    {
     "data": {
      "text/html": [
       "<style>\n",
       ".dictlist {\n",
       "  background-color: #4EC64B;\n",
       "  text-align: center;\n",
       "  margin: 4px;\n",
       "  border-radius: 3px; padding: 0px 3px 1px 3px; display: inline-block;}\n",
       ".artifact {\n",
       "  cursor: pointer;\n",
       "  background-color: #4EC64B;\n",
       "  text-align: left;\n",
       "  margin: 4px; border-radius: 3px; padding: 0px 3px 1px 3px; display: inline-block;\n",
       "}\n",
       "div.block.hidden {\n",
       "  display: none;\n",
       "}\n",
       ".clickable {\n",
       "  cursor: pointer;\n",
       "}\n",
       ".ellipsis {\n",
       "  display: inline-block;\n",
       "  max-width: 60px;\n",
       "  white-space: nowrap;\n",
       "  overflow: hidden;\n",
       "  text-overflow: ellipsis;\n",
       "}\n",
       ".master-wrapper {\n",
       "  display: flex;\n",
       "  flex-flow: row nowrap;\n",
       "  justify-content: flex-start;\n",
       "  align-items: stretch;\n",
       "}\n",
       ".master-tbl {\n",
       "  flex: 3\n",
       "}\n",
       ".master-wrapper > div {\n",
       "  margin: 4px;\n",
       "  padding: 10px;\n",
       "}\n",
       "iframe.fileview {\n",
       "  border: 0 none;\n",
       "  height: 100%;\n",
       "  width: 100%;\n",
       "  white-space: pre-wrap;\n",
       "}\n",
       ".pane-header-title {\n",
       "  width: 80%;\n",
       "  font-weight: 500;\n",
       "}\n",
       ".pane-header {\n",
       "  line-height: 1;\n",
       "  background-color: #4EC64B;\n",
       "  padding: 3px;\n",
       "}\n",
       ".pane-header .close {\n",
       "  font-size: 20px;\n",
       "  font-weight: 700;\n",
       "  float: right;\n",
       "  margin-top: -5px;\n",
       "}\n",
       ".master-wrapper .right-pane {\n",
       "  border: 1px inset silver;\n",
       "  width: 40%;\n",
       "  min-height: 300px;\n",
       "  flex: 3\n",
       "  min-width: 500px;\n",
       "}\n",
       ".master-wrapper * {\n",
       "  box-sizing: border-box;\n",
       "}\n",
       "</style><script>\n",
       "function copyToClipboard(fld) {\n",
       "    if (document.queryCommandSupported && document.queryCommandSupported('copy')) {\n",
       "        var textarea = document.createElement('textarea');\n",
       "        textarea.textContent = fld.innerHTML;\n",
       "        textarea.style.position = 'fixed';\n",
       "        document.body.appendChild(textarea);\n",
       "        textarea.select();\n",
       "\n",
       "        try {\n",
       "            return document.execCommand('copy'); // Security exception may be thrown by some browsers.\n",
       "        } catch (ex) {\n",
       "\n",
       "        } finally {\n",
       "            document.body.removeChild(textarea);\n",
       "        }\n",
       "    }\n",
       "}\n",
       "function expandPanel(el) {\n",
       "  const panelName = \"#\" + el.getAttribute('paneName');\n",
       "  console.log(el.title);\n",
       "\n",
       "  document.querySelector(panelName + \"-title\").innerHTML = el.title\n",
       "  iframe = document.querySelector(panelName + \"-body\");\n",
       "\n",
       "  const tblcss = `<style> body { font-family: Arial, Helvetica, sans-serif;}\n",
       "    #csv { margin-bottom: 15px; }\n",
       "    #csv table { border-collapse: collapse;}\n",
       "    #csv table td { padding: 4px 8px; border: 1px solid silver;} </style>`;\n",
       "\n",
       "  function csvToHtmlTable(str) {\n",
       "    return '<div id=\"csv\"><table><tr><td>' +  str.replace(/[\\n\\r]+$/g, '').replace(/[\\n\\r]+/g, '</td></tr><tr><td>')\n",
       "      .replace(/,/g, '</td><td>') + '</td></tr></table></div>';\n",
       "  }\n",
       "\n",
       "  function reqListener () {\n",
       "    if (el.title.endsWith(\".csv\")) {\n",
       "      iframe.setAttribute(\"srcdoc\", tblcss + csvToHtmlTable(this.responseText));\n",
       "    } else {\n",
       "      iframe.setAttribute(\"srcdoc\", this.responseText);\n",
       "    }\n",
       "    console.log(this.responseText);\n",
       "  }\n",
       "\n",
       "  const oReq = new XMLHttpRequest();\n",
       "  oReq.addEventListener(\"load\", reqListener);\n",
       "  oReq.open(\"GET\", el.title);\n",
       "  oReq.send();\n",
       "\n",
       "\n",
       "  //iframe.src = el.title;\n",
       "  const resultPane = document.querySelector(panelName + \"-pane\");\n",
       "  if (resultPane.classList.contains(\"hidden\")) {\n",
       "    resultPane.classList.remove(\"hidden\");\n",
       "  }\n",
       "}\n",
       "function closePanel(el) {\n",
       "  const panelName = \"#\" + el.getAttribute('paneName')\n",
       "  const resultPane = document.querySelector(panelName + \"-pane\");\n",
       "  if (!resultPane.classList.contains(\"hidden\")) {\n",
       "    resultPane.classList.add(\"hidden\");\n",
       "  }\n",
       "}\n",
       "\n",
       "</script>\n",
       "<div class=\"master-wrapper\">\n",
       "  <div class=\"block master-tbl\"><div>\n",
       "<style scoped>\n",
       "    .dataframe tbody tr th:only-of-type {\n",
       "        vertical-align: middle;\n",
       "    }\n",
       "\n",
       "    .dataframe tbody tr th {\n",
       "        vertical-align: top;\n",
       "    }\n",
       "\n",
       "    .dataframe thead th {\n",
       "        text-align: right;\n",
       "    }\n",
       "</style>\n",
       "<table border=\"1\" class=\"dataframe\">\n",
       "  <thead>\n",
       "    <tr style=\"text-align: right;\">\n",
       "      <th>project</th>\n",
       "      <th>uid</th>\n",
       "      <th>iter</th>\n",
       "      <th>start</th>\n",
       "      <th>state</th>\n",
       "      <th>name</th>\n",
       "      <th>labels</th>\n",
       "      <th>inputs</th>\n",
       "      <th>parameters</th>\n",
       "      <th>results</th>\n",
       "      <th>artifacts</th>\n",
       "    </tr>\n",
       "  </thead>\n",
       "  <tbody>\n",
       "    <tr>\n",
       "      <td>test-git-flow-amite</td>\n",
       "      <td><div title=\"570c0a85f1e34d8298d58c2dc0458e82\"><a href=\"https://dashboard.default-tenant.app.task-force-1.iguazio-cd2.com/mlprojects/test-git-flow-amite/jobs/monitor/570c0a85f1e34d8298d58c2dc0458e82/overview\" target=\"_blank\" >...c0458e82</a></div></td>\n",
       "      <td>0</td>\n",
       "      <td>Dec 05 12:33:39</td>\n",
       "      <td>completed</td>\n",
       "      <td>func1-name-iris-generator</td>\n",
       "      <td><div class=\"dictlist\">v3io_user=amite</div><div class=\"dictlist\">kind=job</div><div class=\"dictlist\">owner=amite</div><div class=\"dictlist\">mlrun/client_version=1.5.2-rc1</div><div class=\"dictlist\">mlrun/client_python_version=3.9.16</div><div class=\"dictlist\">host=func1-name-iris-generator-p72h7</div></td>\n",
       "      <td></td>\n",
       "      <td></td>\n",
       "      <td></td>\n",
       "      <td><div class=\"artifact\" onclick=\"expandPanel(this)\" paneName=\"result28d1244a\" title=\"files/v3io/projects/test-git-flow-amite/artifacts/func1-name-iris-generator/0/iris_dataset.csv\">iris_dataset</div></td>\n",
       "    </tr>\n",
       "  </tbody>\n",
       "</table>\n",
       "</div></div>\n",
       "  <div id=\"result28d1244a-pane\" class=\"right-pane block hidden\">\n",
       "    <div class=\"pane-header\">\n",
       "      <span id=\"result28d1244a-title\" class=\"pane-header-title\">Title</span>\n",
       "      <span onclick=\"closePanel(this)\" paneName=\"result28d1244a\" class=\"close clickable\">&times;</span>\n",
       "    </div>\n",
       "    <iframe class=\"fileview\" id=\"result28d1244a-body\"></iframe>\n",
       "  </div>\n",
       "</div>\n"
      ],
      "text/plain": [
       "<IPython.core.display.HTML object>"
      ]
     },
     "metadata": {},
     "output_type": "display_data"
    },
    {
     "name": "stdout",
     "output_type": "stream",
     "text": [
      "\n"
     ]
    },
    {
     "data": {
      "text/html": [
       "<b> > to track results use the .show() or .logs() methods  or <a href=\"https://dashboard.default-tenant.app.task-force-1.iguazio-cd2.com/mlprojects/test-git-flow-amite/jobs/monitor/570c0a85f1e34d8298d58c2dc0458e82/overview\" target=\"_blank\">click here</a> to open in UI</b>"
      ],
      "text/plain": [
       "<IPython.core.display.HTML object>"
      ]
     },
     "metadata": {},
     "output_type": "display_data"
    },
    {
     "name": "stdout",
     "output_type": "stream",
     "text": [
      "> 2023-12-05 12:33:48,819 [info] Run execution finished: {'status': 'completed', 'name': 'func1-name-iris-generator'}\n"
     ]
    }
   ],
   "source": [
    "func1_run = project.run_function(func1_name, local=False, auto_build=True)\n",
    "assert isinstance(func1_run, mlrun.model.RunObject)\n",
    "assert func1_run.spec.handler==handler_name"
   ]
  },
  {
   "cell_type": "markdown",
   "id": "b617b68e-47a8-46e0-a3b7-c357168e0493",
   "metadata": {},
   "source": [
    "## Check the with_repo parameter + check that pull_at_runtime=False works\n",
    "### We will create a new project to check pull_at_runtime=False\n"
   ]
  },
  {
   "cell_type": "code",
   "execution_count": 7,
   "id": "6a9447fe-c39b-4f9a-9c78-869dc8758f7d",
   "metadata": {},
   "outputs": [
    {
     "name": "stdout",
     "output_type": "stream",
     "text": [
      "> 2023-12-05 12:33:51,196 [info] Loading project from path: {'project_name': 'test-git-flow2', 'path': './'}\n",
      "> 2023-12-05 12:34:06,850 [info] Project loaded successfully: {'project_name': 'test-git-flow2', 'path': './', 'stored_in_db': True}\n"
     ]
    }
   ],
   "source": [
    "project_name2 = \"test-git-flow2\"\n",
    "project = mlrun.get_or_create_project(project_name2, \"./test-git-flow\")"
   ]
  },
  {
   "cell_type": "code",
   "execution_count": 8,
   "id": "ab015378-20ca-409e-8e35-4f452501f345",
   "metadata": {},
   "outputs": [
    {
     "name": "stdout",
     "output_type": "stream",
     "text": [
      "> 2023-12-05 12:34:06,875 [warning] Failed to add git metadata, ignore if path is not part of a git repo.: {'path': './', 'error': '/User/automations/git-flow'}\n"
     ]
    }
   ],
   "source": [
    "project.set_source(\"git://github.com/mlrun/project-demo#main\", pull_at_runtime=False)"
   ]
  },
  {
   "cell_type": "markdown",
   "id": "6c9f62bb-d947-4d26-a745-8bd886e1ee4b",
   "metadata": {},
   "source": [
    "#### First we try with_repo=False. Since source is from github we expect an error"
   ]
  },
  {
   "cell_type": "code",
   "execution_count": 9,
   "id": "f8d27e58-4383-4b31-9724-4d3aa0024ad4",
   "metadata": {},
   "outputs": [],
   "source": [
    "handler_name = \"gen_iris.iris_generator\"\n",
    "func2_name = \"func2-name\"\n",
    "func2 = project.set_function(handler=handler_name, name=func2_name, image=\"mlrun/mlrun\", kind=\"job\", with_repo=False)"
   ]
  },
  {
   "cell_type": "code",
   "execution_count": 10,
   "id": "4065360d-0e0b-42fa-b3b2-816b7df741e6",
   "metadata": {},
   "outputs": [
    {
     "name": "stdout",
     "output_type": "stream",
     "text": [
      "> 2023-12-05 12:34:06,924 [info] Storing function: {'name': 'func2-name-iris-generator', 'uid': '1966718e313740cc9a94c58a8522f635', 'db': 'http://mlrun-api:8080'}\n",
      "> 2023-12-05 12:34:07,177 [info] Job is running in the background, pod: func2-name-iris-generator-cvcjv\n"
     ]
    },
    {
     "data": {
      "text/html": [
       "<style>\n",
       ".dictlist {\n",
       "  background-color: #4EC64B;\n",
       "  text-align: center;\n",
       "  margin: 4px;\n",
       "  border-radius: 3px; padding: 0px 3px 1px 3px; display: inline-block;}\n",
       ".artifact {\n",
       "  cursor: pointer;\n",
       "  background-color: #4EC64B;\n",
       "  text-align: left;\n",
       "  margin: 4px; border-radius: 3px; padding: 0px 3px 1px 3px; display: inline-block;\n",
       "}\n",
       "div.block.hidden {\n",
       "  display: none;\n",
       "}\n",
       ".clickable {\n",
       "  cursor: pointer;\n",
       "}\n",
       ".ellipsis {\n",
       "  display: inline-block;\n",
       "  max-width: 60px;\n",
       "  white-space: nowrap;\n",
       "  overflow: hidden;\n",
       "  text-overflow: ellipsis;\n",
       "}\n",
       ".master-wrapper {\n",
       "  display: flex;\n",
       "  flex-flow: row nowrap;\n",
       "  justify-content: flex-start;\n",
       "  align-items: stretch;\n",
       "}\n",
       ".master-tbl {\n",
       "  flex: 3\n",
       "}\n",
       ".master-wrapper > div {\n",
       "  margin: 4px;\n",
       "  padding: 10px;\n",
       "}\n",
       "iframe.fileview {\n",
       "  border: 0 none;\n",
       "  height: 100%;\n",
       "  width: 100%;\n",
       "  white-space: pre-wrap;\n",
       "}\n",
       ".pane-header-title {\n",
       "  width: 80%;\n",
       "  font-weight: 500;\n",
       "}\n",
       ".pane-header {\n",
       "  line-height: 1;\n",
       "  background-color: #4EC64B;\n",
       "  padding: 3px;\n",
       "}\n",
       ".pane-header .close {\n",
       "  font-size: 20px;\n",
       "  font-weight: 700;\n",
       "  float: right;\n",
       "  margin-top: -5px;\n",
       "}\n",
       ".master-wrapper .right-pane {\n",
       "  border: 1px inset silver;\n",
       "  width: 40%;\n",
       "  min-height: 300px;\n",
       "  flex: 3\n",
       "  min-width: 500px;\n",
       "}\n",
       ".master-wrapper * {\n",
       "  box-sizing: border-box;\n",
       "}\n",
       "</style><script>\n",
       "function copyToClipboard(fld) {\n",
       "    if (document.queryCommandSupported && document.queryCommandSupported('copy')) {\n",
       "        var textarea = document.createElement('textarea');\n",
       "        textarea.textContent = fld.innerHTML;\n",
       "        textarea.style.position = 'fixed';\n",
       "        document.body.appendChild(textarea);\n",
       "        textarea.select();\n",
       "\n",
       "        try {\n",
       "            return document.execCommand('copy'); // Security exception may be thrown by some browsers.\n",
       "        } catch (ex) {\n",
       "\n",
       "        } finally {\n",
       "            document.body.removeChild(textarea);\n",
       "        }\n",
       "    }\n",
       "}\n",
       "function expandPanel(el) {\n",
       "  const panelName = \"#\" + el.getAttribute('paneName');\n",
       "  console.log(el.title);\n",
       "\n",
       "  document.querySelector(panelName + \"-title\").innerHTML = el.title\n",
       "  iframe = document.querySelector(panelName + \"-body\");\n",
       "\n",
       "  const tblcss = `<style> body { font-family: Arial, Helvetica, sans-serif;}\n",
       "    #csv { margin-bottom: 15px; }\n",
       "    #csv table { border-collapse: collapse;}\n",
       "    #csv table td { padding: 4px 8px; border: 1px solid silver;} </style>`;\n",
       "\n",
       "  function csvToHtmlTable(str) {\n",
       "    return '<div id=\"csv\"><table><tr><td>' +  str.replace(/[\\n\\r]+$/g, '').replace(/[\\n\\r]+/g, '</td></tr><tr><td>')\n",
       "      .replace(/,/g, '</td><td>') + '</td></tr></table></div>';\n",
       "  }\n",
       "\n",
       "  function reqListener () {\n",
       "    if (el.title.endsWith(\".csv\")) {\n",
       "      iframe.setAttribute(\"srcdoc\", tblcss + csvToHtmlTable(this.responseText));\n",
       "    } else {\n",
       "      iframe.setAttribute(\"srcdoc\", this.responseText);\n",
       "    }\n",
       "    console.log(this.responseText);\n",
       "  }\n",
       "\n",
       "  const oReq = new XMLHttpRequest();\n",
       "  oReq.addEventListener(\"load\", reqListener);\n",
       "  oReq.open(\"GET\", el.title);\n",
       "  oReq.send();\n",
       "\n",
       "\n",
       "  //iframe.src = el.title;\n",
       "  const resultPane = document.querySelector(panelName + \"-pane\");\n",
       "  if (resultPane.classList.contains(\"hidden\")) {\n",
       "    resultPane.classList.remove(\"hidden\");\n",
       "  }\n",
       "}\n",
       "function closePanel(el) {\n",
       "  const panelName = \"#\" + el.getAttribute('paneName')\n",
       "  const resultPane = document.querySelector(panelName + \"-pane\");\n",
       "  if (!resultPane.classList.contains(\"hidden\")) {\n",
       "    resultPane.classList.add(\"hidden\");\n",
       "  }\n",
       "}\n",
       "\n",
       "</script>\n",
       "<div class=\"master-wrapper\">\n",
       "  <div class=\"block master-tbl\"><div>\n",
       "<style scoped>\n",
       "    .dataframe tbody tr th:only-of-type {\n",
       "        vertical-align: middle;\n",
       "    }\n",
       "\n",
       "    .dataframe tbody tr th {\n",
       "        vertical-align: top;\n",
       "    }\n",
       "\n",
       "    .dataframe thead th {\n",
       "        text-align: right;\n",
       "    }\n",
       "</style>\n",
       "<table border=\"1\" class=\"dataframe\">\n",
       "  <thead>\n",
       "    <tr style=\"text-align: right;\">\n",
       "      <th>project</th>\n",
       "      <th>uid</th>\n",
       "      <th>iter</th>\n",
       "      <th>start</th>\n",
       "      <th>state</th>\n",
       "      <th>name</th>\n",
       "      <th>labels</th>\n",
       "      <th>inputs</th>\n",
       "      <th>parameters</th>\n",
       "      <th>results</th>\n",
       "      <th>artifacts</th>\n",
       "    </tr>\n",
       "  </thead>\n",
       "  <tbody>\n",
       "    <tr>\n",
       "      <td>test-git-flow2-amite</td>\n",
       "      <td><div title=\"1966718e313740cc9a94c58a8522f635\"><a href=\"https://dashboard.default-tenant.app.task-force-1.iguazio-cd2.com/mlprojects/test-git-flow2-amite/jobs/monitor/1966718e313740cc9a94c58a8522f635/overview\" target=\"_blank\" >...8522f635</a></div></td>\n",
       "      <td>0</td>\n",
       "      <td>Dec 05 12:34:10</td>\n",
       "      <td><div style=\"color: red;\" title=\"failed on pre-loading / post-running of the function, caused by: state/function init failed, handler gen_iris.iris_generator not found, caused by: No module named 'gen_iris'\">error</div></td>\n",
       "      <td>func2-name-iris-generator</td>\n",
       "      <td><div class=\"dictlist\">v3io_user=amite</div><div class=\"dictlist\">kind=job</div><div class=\"dictlist\">owner=amite</div><div class=\"dictlist\">mlrun/client_version=1.5.2-rc1</div><div class=\"dictlist\">mlrun/client_python_version=3.9.16</div><div class=\"dictlist\">host=func2-name-iris-generator-cvcjv</div></td>\n",
       "      <td></td>\n",
       "      <td></td>\n",
       "      <td></td>\n",
       "      <td></td>\n",
       "    </tr>\n",
       "  </tbody>\n",
       "</table>\n",
       "</div></div>\n",
       "  <div id=\"resultc08d3f21-pane\" class=\"right-pane block hidden\">\n",
       "    <div class=\"pane-header\">\n",
       "      <span id=\"resultc08d3f21-title\" class=\"pane-header-title\">Title</span>\n",
       "      <span onclick=\"closePanel(this)\" paneName=\"resultc08d3f21\" class=\"close clickable\">&times;</span>\n",
       "    </div>\n",
       "    <iframe class=\"fileview\" id=\"resultc08d3f21-body\"></iframe>\n",
       "  </div>\n",
       "</div>\n"
      ],
      "text/plain": [
       "<IPython.core.display.HTML object>"
      ]
     },
     "metadata": {},
     "output_type": "display_data"
    },
    {
     "name": "stdout",
     "output_type": "stream",
     "text": [
      "\n"
     ]
    },
    {
     "data": {
      "text/html": [
       "<b> > to track results use the .show() or .logs() methods  or <a href=\"https://dashboard.default-tenant.app.task-force-1.iguazio-cd2.com/mlprojects/test-git-flow2-amite/jobs/monitor/1966718e313740cc9a94c58a8522f635/overview\" target=\"_blank\">click here</a> to open in UI</b>"
      ],
      "text/plain": [
       "<IPython.core.display.HTML object>"
      ]
     },
     "metadata": {},
     "output_type": "display_data"
    },
    {
     "name": "stdout",
     "output_type": "stream",
     "text": [
      "> 2023-12-05 12:34:20,284 [info] Run execution finished: {'status': 'error', 'name': 'func2-name-iris-generator'}\n",
      "> 2023-12-05 12:34:20,285 [error] Run did not finish successfully: {'state': 'error', 'status': {'state': 'error', 'error': \"failed on pre-loading / post-running of the function, caused by: state/function init failed, handler gen_iris.iris_generator not found, caused by: No module named 'gen_iris'\", 'artifacts': [], 'start_time': '2023-12-05T12:34:10.442942+00:00', 'last_update': '2023-12-05T12:34:10.549558+00:00'}}\n"
     ]
    }
   ],
   "source": [
    "try:\n",
    "    func2_run = project.run_function(func2_name, local=False, auto_build=True)\n",
    "except Exception as e:\n",
    "    assert isinstance(e, RunError)"
   ]
  },
  {
   "cell_type": "markdown",
   "id": "d5b99351-f9dd-453f-a77a-e4943ea8cd61",
   "metadata": {},
   "source": [
    "#### Now we set with_repo=True - we expect to succeed"
   ]
  },
  {
   "cell_type": "code",
   "execution_count": 11,
   "id": "816a7539-aa6b-45d0-b510-34bdfb2ae91c",
   "metadata": {},
   "outputs": [],
   "source": [
    "func2 = project.set_function(handler=handler_name, name=func2_name, image=\"mlrun/mlrun\", kind=\"job\", with_repo=True)"
   ]
  },
  {
   "cell_type": "code",
   "execution_count": 12,
   "id": "90ba5e50-84bf-4ff8-8475-5a9b0907adf3",
   "metadata": {},
   "outputs": [
    {
     "name": "stdout",
     "output_type": "stream",
     "text": [
      "> 2023-12-05 12:34:38,382 [info] Function is not deployed and auto_build flag is set, starting deploy...\n",
      "> 2023-12-05 12:34:38,711 [info] Started building image: .mlrun/func-test-git-flow2-amite-func2-name:latest\n",
      "> 2023-12-05 12:35:40,178 [info] Storing function: {'name': 'func2-name-iris-generator', 'uid': '51fb26282d544436a63c36011ac0c1ea', 'db': 'http://mlrun-api:8080'}\n",
      "> 2023-12-05 12:35:43,072 [info] Job is running in the background, pod: func2-name-iris-generator-bnq6t\n",
      "> 2023-12-05 12:35:48,004 [info] saving iris dataframe to v3io:///projects/test-git-flow2-amite/artifacts\n",
      "> 2023-12-05 12:35:48,229 [info] Run execution finished: {'status': 'completed', 'name': 'func2-name-iris-generator'}\n"
     ]
    },
    {
     "data": {
      "text/html": [
       "<style>\n",
       ".dictlist {\n",
       "  background-color: #4EC64B;\n",
       "  text-align: center;\n",
       "  margin: 4px;\n",
       "  border-radius: 3px; padding: 0px 3px 1px 3px; display: inline-block;}\n",
       ".artifact {\n",
       "  cursor: pointer;\n",
       "  background-color: #4EC64B;\n",
       "  text-align: left;\n",
       "  margin: 4px; border-radius: 3px; padding: 0px 3px 1px 3px; display: inline-block;\n",
       "}\n",
       "div.block.hidden {\n",
       "  display: none;\n",
       "}\n",
       ".clickable {\n",
       "  cursor: pointer;\n",
       "}\n",
       ".ellipsis {\n",
       "  display: inline-block;\n",
       "  max-width: 60px;\n",
       "  white-space: nowrap;\n",
       "  overflow: hidden;\n",
       "  text-overflow: ellipsis;\n",
       "}\n",
       ".master-wrapper {\n",
       "  display: flex;\n",
       "  flex-flow: row nowrap;\n",
       "  justify-content: flex-start;\n",
       "  align-items: stretch;\n",
       "}\n",
       ".master-tbl {\n",
       "  flex: 3\n",
       "}\n",
       ".master-wrapper > div {\n",
       "  margin: 4px;\n",
       "  padding: 10px;\n",
       "}\n",
       "iframe.fileview {\n",
       "  border: 0 none;\n",
       "  height: 100%;\n",
       "  width: 100%;\n",
       "  white-space: pre-wrap;\n",
       "}\n",
       ".pane-header-title {\n",
       "  width: 80%;\n",
       "  font-weight: 500;\n",
       "}\n",
       ".pane-header {\n",
       "  line-height: 1;\n",
       "  background-color: #4EC64B;\n",
       "  padding: 3px;\n",
       "}\n",
       ".pane-header .close {\n",
       "  font-size: 20px;\n",
       "  font-weight: 700;\n",
       "  float: right;\n",
       "  margin-top: -5px;\n",
       "}\n",
       ".master-wrapper .right-pane {\n",
       "  border: 1px inset silver;\n",
       "  width: 40%;\n",
       "  min-height: 300px;\n",
       "  flex: 3\n",
       "  min-width: 500px;\n",
       "}\n",
       ".master-wrapper * {\n",
       "  box-sizing: border-box;\n",
       "}\n",
       "</style><script>\n",
       "function copyToClipboard(fld) {\n",
       "    if (document.queryCommandSupported && document.queryCommandSupported('copy')) {\n",
       "        var textarea = document.createElement('textarea');\n",
       "        textarea.textContent = fld.innerHTML;\n",
       "        textarea.style.position = 'fixed';\n",
       "        document.body.appendChild(textarea);\n",
       "        textarea.select();\n",
       "\n",
       "        try {\n",
       "            return document.execCommand('copy'); // Security exception may be thrown by some browsers.\n",
       "        } catch (ex) {\n",
       "\n",
       "        } finally {\n",
       "            document.body.removeChild(textarea);\n",
       "        }\n",
       "    }\n",
       "}\n",
       "function expandPanel(el) {\n",
       "  const panelName = \"#\" + el.getAttribute('paneName');\n",
       "  console.log(el.title);\n",
       "\n",
       "  document.querySelector(panelName + \"-title\").innerHTML = el.title\n",
       "  iframe = document.querySelector(panelName + \"-body\");\n",
       "\n",
       "  const tblcss = `<style> body { font-family: Arial, Helvetica, sans-serif;}\n",
       "    #csv { margin-bottom: 15px; }\n",
       "    #csv table { border-collapse: collapse;}\n",
       "    #csv table td { padding: 4px 8px; border: 1px solid silver;} </style>`;\n",
       "\n",
       "  function csvToHtmlTable(str) {\n",
       "    return '<div id=\"csv\"><table><tr><td>' +  str.replace(/[\\n\\r]+$/g, '').replace(/[\\n\\r]+/g, '</td></tr><tr><td>')\n",
       "      .replace(/,/g, '</td><td>') + '</td></tr></table></div>';\n",
       "  }\n",
       "\n",
       "  function reqListener () {\n",
       "    if (el.title.endsWith(\".csv\")) {\n",
       "      iframe.setAttribute(\"srcdoc\", tblcss + csvToHtmlTable(this.responseText));\n",
       "    } else {\n",
       "      iframe.setAttribute(\"srcdoc\", this.responseText);\n",
       "    }\n",
       "    console.log(this.responseText);\n",
       "  }\n",
       "\n",
       "  const oReq = new XMLHttpRequest();\n",
       "  oReq.addEventListener(\"load\", reqListener);\n",
       "  oReq.open(\"GET\", el.title);\n",
       "  oReq.send();\n",
       "\n",
       "\n",
       "  //iframe.src = el.title;\n",
       "  const resultPane = document.querySelector(panelName + \"-pane\");\n",
       "  if (resultPane.classList.contains(\"hidden\")) {\n",
       "    resultPane.classList.remove(\"hidden\");\n",
       "  }\n",
       "}\n",
       "function closePanel(el) {\n",
       "  const panelName = \"#\" + el.getAttribute('paneName')\n",
       "  const resultPane = document.querySelector(panelName + \"-pane\");\n",
       "  if (!resultPane.classList.contains(\"hidden\")) {\n",
       "    resultPane.classList.add(\"hidden\");\n",
       "  }\n",
       "}\n",
       "\n",
       "</script>\n",
       "<div class=\"master-wrapper\">\n",
       "  <div class=\"block master-tbl\"><div>\n",
       "<style scoped>\n",
       "    .dataframe tbody tr th:only-of-type {\n",
       "        vertical-align: middle;\n",
       "    }\n",
       "\n",
       "    .dataframe tbody tr th {\n",
       "        vertical-align: top;\n",
       "    }\n",
       "\n",
       "    .dataframe thead th {\n",
       "        text-align: right;\n",
       "    }\n",
       "</style>\n",
       "<table border=\"1\" class=\"dataframe\">\n",
       "  <thead>\n",
       "    <tr style=\"text-align: right;\">\n",
       "      <th>project</th>\n",
       "      <th>uid</th>\n",
       "      <th>iter</th>\n",
       "      <th>start</th>\n",
       "      <th>state</th>\n",
       "      <th>name</th>\n",
       "      <th>labels</th>\n",
       "      <th>inputs</th>\n",
       "      <th>parameters</th>\n",
       "      <th>results</th>\n",
       "      <th>artifacts</th>\n",
       "    </tr>\n",
       "  </thead>\n",
       "  <tbody>\n",
       "    <tr>\n",
       "      <td>test-git-flow2-amite</td>\n",
       "      <td><div title=\"51fb26282d544436a63c36011ac0c1ea\"><a href=\"https://dashboard.default-tenant.app.task-force-1.iguazio-cd2.com/mlprojects/test-git-flow2-amite/jobs/monitor/51fb26282d544436a63c36011ac0c1ea/overview\" target=\"_blank\" >...1ac0c1ea</a></div></td>\n",
       "      <td>0</td>\n",
       "      <td>Dec 05 12:35:47</td>\n",
       "      <td>completed</td>\n",
       "      <td>func2-name-iris-generator</td>\n",
       "      <td><div class=\"dictlist\">v3io_user=amite</div><div class=\"dictlist\">kind=job</div><div class=\"dictlist\">owner=amite</div><div class=\"dictlist\">mlrun/client_version=1.5.2-rc1</div><div class=\"dictlist\">mlrun/client_python_version=3.9.16</div><div class=\"dictlist\">host=func2-name-iris-generator-bnq6t</div></td>\n",
       "      <td></td>\n",
       "      <td></td>\n",
       "      <td></td>\n",
       "      <td><div class=\"artifact\" onclick=\"expandPanel(this)\" paneName=\"resultdfc4e0aa\" title=\"files/v3io/projects/test-git-flow2-amite/artifacts/func2-name-iris-generator/0/iris_dataset.csv\">iris_dataset</div></td>\n",
       "    </tr>\n",
       "  </tbody>\n",
       "</table>\n",
       "</div></div>\n",
       "  <div id=\"resultdfc4e0aa-pane\" class=\"right-pane block hidden\">\n",
       "    <div class=\"pane-header\">\n",
       "      <span id=\"resultdfc4e0aa-title\" class=\"pane-header-title\">Title</span>\n",
       "      <span onclick=\"closePanel(this)\" paneName=\"resultdfc4e0aa\" class=\"close clickable\">&times;</span>\n",
       "    </div>\n",
       "    <iframe class=\"fileview\" id=\"resultdfc4e0aa-body\"></iframe>\n",
       "  </div>\n",
       "</div>\n"
      ],
      "text/plain": [
       "<IPython.core.display.HTML object>"
      ]
     },
     "metadata": {},
     "output_type": "display_data"
    },
    {
     "name": "stdout",
     "output_type": "stream",
     "text": [
      "\n"
     ]
    },
    {
     "data": {
      "text/html": [
       "<b> > to track results use the .show() or .logs() methods  or <a href=\"https://dashboard.default-tenant.app.task-force-1.iguazio-cd2.com/mlprojects/test-git-flow2-amite/jobs/monitor/51fb26282d544436a63c36011ac0c1ea/overview\" target=\"_blank\">click here</a> to open in UI</b>"
      ],
      "text/plain": [
       "<IPython.core.display.HTML object>"
      ]
     },
     "metadata": {},
     "output_type": "display_data"
    },
    {
     "name": "stdout",
     "output_type": "stream",
     "text": [
      "> 2023-12-05 12:35:51,784 [info] Run execution finished: {'status': 'completed', 'name': 'func2-name-iris-generator'}\n"
     ]
    }
   ],
   "source": [
    "func2_run = project.run_function(func2_name, local=False, auto_build=True)\n",
    "assert isinstance(func2_run, mlrun.model.RunObject)\n",
    "assert func2_run.spec.handler==handler_name"
   ]
  },
  {
   "cell_type": "markdown",
   "id": "7ed7595c-8b2f-4d28-9cb8-54bf9e75be29",
   "metadata": {},
   "source": [
    "## Check the 'create_remote' function"
   ]
  },
  {
   "cell_type": "code",
   "execution_count": 13,
   "id": "faa902f0-c1ad-44ac-8cae-14d11a3e59c8",
   "metadata": {},
   "outputs": [
    {
     "name": "stdout",
     "output_type": "stream",
     "text": [
      "> 2023-12-05 12:35:56,753 [info] Loading project from path: {'project_name': 'test-git-flow3', 'path': './'}\n",
      "> 2023-12-05 12:36:12,827 [info] Project loaded successfully: {'project_name': 'test-git-flow3', 'path': './', 'stored_in_db': True}\n"
     ]
    }
   ],
   "source": [
    "project_name3 = \"test-git-flow3\"\n",
    "project = mlrun.get_or_create_project(project_name3, \"./test-git-flow\", init_git=True)\n"
   ]
  },
  {
   "cell_type": "code",
   "execution_count": 14,
   "id": "5af72f79-c49f-46e4-965b-7f723f1da240",
   "metadata": {},
   "outputs": [],
   "source": [
    "source_path = 'git://github.com/mlrun/project-demo'\n",
    "project.create_remote(url=source_path,name='test-git-flow-remote',branch='main')\n",
    "assert project.spec.source==source_path+\"#refs/heads/master\"\n",
    "assert project.spec.origin_url==source_path+\"#main\""
   ]
  },
  {
   "cell_type": "markdown",
   "id": "ee18631a-cf2f-4560-900a-3a3b634ac628",
   "metadata": {},
   "source": [
    "### Check the 'load_project' function"
   ]
  },
  {
   "cell_type": "code",
   "execution_count": 15,
   "id": "7c735847-2b82-4c00-95f4-c1a853d979da",
   "metadata": {},
   "outputs": [],
   "source": [
    "source_path = 'git://github.com/mlrun/project-demo'\n",
    "folder_name = \"loaded_project\"\n",
    "project = mlrun.load_project(folder_name, source_path, clone=True)\n"
   ]
  },
  {
   "cell_type": "code",
   "execution_count": 16,
   "id": "cc6aabcf-0734-46ae-b62b-d065e33c52cc",
   "metadata": {},
   "outputs": [],
   "source": [
    "folder_name = \"loaded_project\"\n",
    "created_files = [\"gen_iris.py\", \"kflow.py\", \"LICENSE\", \"newflow.py\", \"prep_data.py\", \"project.yaml\", \"README.md\"]\n",
    "\n",
    "assert os.path.exists(folder_name), f\"The file '{folder_name}' does not exist.\"\n",
    "for file_name in created_files:\n",
    "    file_path = folder_name+\"/\"+file_name\n",
    "    assert os.path.exists(file_path), f\"The file '{file_path}' does not exist.\""
   ]
  },
  {
   "cell_type": "markdown",
   "id": "e848d6c5-1e03-471e-be96-19d4110a6d83",
   "metadata": {},
   "source": [
    "## Check the 'export' function"
   ]
  },
  {
   "cell_type": "code",
   "execution_count": 17,
   "id": "54f71977-af5f-466e-93ce-6f8df576cb3e",
   "metadata": {},
   "outputs": [],
   "source": [
    "export_file_name = \"export-file.yaml\"\n",
    "project.export(export_file_name)\n",
    "assert os.path.exists(export_file_name), f\"The file '{export_file_name}' does not exist.\"\n"
   ]
  },
  {
   "cell_type": "markdown",
   "id": "0b0e8678-ecda-489a-a022-5f098b058f58",
   "metadata": {},
   "source": [
    "## Delete all the resources"
   ]
  },
  {
   "cell_type": "code",
   "execution_count": 23,
   "id": "68dba466-3b38-4aca-90bf-6eb332243209",
   "metadata": {},
   "outputs": [],
   "source": [
    "run_db = mlrun.get_run_db()"
   ]
  },
  {
   "cell_type": "code",
   "execution_count": 24,
   "id": "7e3ccb25-8b16-4af7-b37e-46c21413716d",
   "metadata": {},
   "outputs": [
    {
     "name": "stdout",
     "output_type": "stream",
     "text": [
      "> 2023-12-05 12:46:26,128 [info] Project is being deleted: {'project_name': 'test-git-flow-amite'}\n",
      "> 2023-12-05 12:46:50,825 [info] Project deleted: {'project_name': 'test-git-flow-amite'}\n",
      "> 2023-12-05 12:46:51,106 [info] Project is being deleted: {'project_name': 'test-git-flow2-amite'}\n",
      "> 2023-12-05 12:47:07,956 [info] Project deleted: {'project_name': 'test-git-flow2-amite'}\n",
      "> 2023-12-05 12:47:08,249 [info] Project is being deleted: {'project_name': 'test-git-flow3-amite'}\n",
      "> 2023-12-05 12:47:26,468 [info] Project deleted: {'project_name': 'test-git-flow3-amite'}\n"
     ]
    }
   ],
   "source": [
    "run_db.delete_project(project_name1, mlrun.common.schemas.constants.DeletionStrategy.cascade)\n",
    "run_db.delete_project(project_name2, mlrun.common.schemas.constants.DeletionStrategy.cascade)\n",
    "run_db.delete_project(project_name3, mlrun.common.schemas.constants.DeletionStrategy.cascade)"
   ]
  },
  {
   "cell_type": "code",
   "execution_count": null,
   "id": "5486e5a6-8c66-4efd-b34d-3bc85f8c8b3e",
   "metadata": {},
   "outputs": [],
   "source": []
  }
 ],
 "metadata": {
  "kernelspec": {
   "display_name": "mlrun-base",
   "language": "python",
   "name": "conda-env-mlrun-base-py"
  },
  "language_info": {
   "codemirror_mode": {
    "name": "ipython",
    "version": 3
   },
   "file_extension": ".py",
   "mimetype": "text/x-python",
   "name": "python",
   "nbconvert_exporter": "python",
   "pygments_lexer": "ipython3",
   "version": "3.9.16"
  }
 },
 "nbformat": 4,
 "nbformat_minor": 5
}
