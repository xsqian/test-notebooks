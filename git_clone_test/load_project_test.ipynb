{
 "cells": [
  {
   "cell_type": "markdown",
   "id": "53f359cd",
   "metadata": {},
   "source": [
    "## Prerequisites\n",
    "1. Creating a three ENV variables in the jupyter service :\n",
    "    * GIT_TOKEN\n",
    "    * AWS_ACCESS_KEY_ID\n",
    "    * AWS_SECRET_ACCESS_KEY\n",
    "2. clone this repo to your jupyter service - make sure you are running this notebook from the repo directory \n"
   ]
  },
  {
   "cell_type": "code",
   "execution_count": null,
   "id": "ceed1ee9",
   "metadata": {},
   "outputs": [],
   "source": [
    "import mlrun"
   ]
  },
  {
   "cell_type": "code",
   "execution_count": null,
   "id": "b5058781",
   "metadata": {},
   "outputs": [],
   "source": [
    "from mlrun.artifacts import DatasetArtifact,Artifact"
   ]
  },
  {
   "cell_type": "code",
   "execution_count": null,
   "id": "212b278a",
   "metadata": {},
   "outputs": [],
   "source": [
    "project = mlrun.load_project('./')"
   ]
  },
  {
   "cell_type": "code",
   "execution_count": null,
   "id": "97f1ad2e",
   "metadata": {},
   "outputs": [],
   "source": [
    "project.save()"
   ]
  },
  {
   "cell_type": "markdown",
   "id": "2526eebc",
   "metadata": {},
   "source": [
    "#### Project YAML"
   ]
  },
  {
   "cell_type": "code",
   "execution_count": null,
   "id": "7a5f2462",
   "metadata": {},
   "outputs": [],
   "source": [
    "dataset = project.get_artifact('cancer-dataset')"
   ]
  },
  {
   "cell_type": "code",
   "execution_count": null,
   "id": "e1454cbb",
   "metadata": {},
   "outputs": [],
   "source": [
    "job_function_run = project.run_function('fetch-data',inputs={'dataset' : dataset.target_path},local=True)"
   ]
  },
  {
   "cell_type": "code",
   "execution_count": null,
   "id": "a072edce",
   "metadata": {},
   "outputs": [],
   "source": [
    "job_function = project.get_function('fetch-data',sync=True).apply(mlrun.platforms.mount_s3())"
   ]
  },
  {
   "cell_type": "code",
   "execution_count": null,
   "id": "08653385",
   "metadata": {},
   "outputs": [],
   "source": [
    "job_function_run = job_function.run(inputs={'dataset' : dataset.target_path})"
   ]
  },
  {
   "cell_type": "code",
   "execution_count": null,
   "id": "730a3f20",
   "metadata": {},
   "outputs": [],
   "source": [
    "job_function_run.outputs"
   ]
  },
  {
   "cell_type": "code",
   "execution_count": null,
   "id": "c1949b66",
   "metadata": {},
   "outputs": [],
   "source": [
    "trainer = project.get_function('trainer').apply(mlrun.platforms.mount_s3())"
   ]
  },
  {
   "cell_type": "code",
   "execution_count": null,
   "id": "c6975c7f",
   "metadata": {},
   "outputs": [],
   "source": [
    "trainer_run = trainer.run(inputs = {\"dataset\":job_function_run.outputs['dataset']},params = {\"n_estimators\": 100, \"learning_rate\": 1e-1, \"max_depth\": 3})"
   ]
  },
  {
   "cell_type": "code",
   "execution_count": null,
   "id": "8797c251",
   "metadata": {},
   "outputs": [],
   "source": [
    "serving = project.get_function('serving').apply(mlrun.platforms.mount_s3())"
   ]
  },
  {
   "cell_type": "code",
   "execution_count": null,
   "id": "89734869",
   "metadata": {},
   "outputs": [],
   "source": [
    "serving_func = project.deploy_function('serving',models=[{'key':'cancer-classifier','model_path':trainer_run.outputs[\"model\"], 'class_name':'mlrun.frameworks.sklearn.SklearnModelServer'}])"
   ]
  },
  {
   "cell_type": "code",
   "execution_count": null,
   "id": "e9da113d",
   "metadata": {},
   "outputs": [],
   "source": [
    "my_data = {\"inputs\"\n",
    "           :[[\n",
    "               1.371e+01, 2.083e+01, 9.020e+01, 5.779e+02, 1.189e-01, 1.645e-01,\n",
    "               9.366e-02, 5.985e-02, 2.196e-01, 7.451e-02, 5.835e-01, 1.377e+00,\n",
    "               3.856e+00, 5.096e+01, 8.805e-03, 3.029e-02, 2.488e-02, 1.448e-02,\n",
    "               1.486e-02, 5.412e-03, 1.706e+01, 2.814e+01, 1.106e+02, 8.970e+02,\n",
    "               1.654e-01, 3.682e-01, 2.678e-01, 1.556e-01, 3.196e-01, 1.151e-01]\n",
    "            ]\n",
    "}\n",
    "serving_func.function.invoke(\"/\", body=my_data)"
   ]
  },
  {
   "cell_type": "code",
   "execution_count": null,
   "id": "b372bd5f",
   "metadata": {},
   "outputs": [],
   "source": [
    "project.run(workflow_path='workflow.py',watch=True)"
   ]
  }
 ],
 "metadata": {
  "kernelspec": {
   "display_name": "mlrun-base",
   "language": "python",
   "name": "conda-env-mlrun-base-py"
  },
  "language_info": {
   "codemirror_mode": {
    "name": "ipython",
    "version": 3
   },
   "file_extension": ".py",
   "mimetype": "text/x-python",
   "name": "python",
   "nbconvert_exporter": "python",
   "pygments_lexer": "ipython3",
   "version": "3.9.18"
  }
 },
 "nbformat": 4,
 "nbformat_minor": 5
}
