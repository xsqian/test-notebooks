{
 "cells": [
  {
   "cell_type": "markdown",
   "metadata": {
    "pycharm": {
     "name": "#%% md\n"
    }
   },
   "source": [
    "# Batch Inference\n",
    "\n",
    "A function for inferring given input through a given model while producing a **Result Set** and performing **Data Drift Analysis**.\n",
    "\n",
    "In this notebook we will go over the function's docs and outputs and see an end-to-end example of running it.\n",
    "\n",
    "1. [Documentation](#chapter1)\n",
    "2. [Results Prediction](#chapter2)\n",
    "3. [Data Drift Analysis](#chapter3)\n",
    "4. [End-to-end Demo](#chapter4)"
   ]
  },
  {
   "cell_type": "markdown",
   "metadata": {
    "pycharm": {
     "name": "#%% md\n"
    }
   },
   "source": [
    "<a id=\"chapter1\"></a>\n",
    "## 1. Documentation\n",
    "\n",
    "Perform a prediction on a given dataset with the given model. Can perform drift analysis between the sample set statistics stored in the model to the current input data. The drift rule is the value per-feature mean of the TVD and Hellinger scores according to the thresholds configures here."
   ]
  },
  {
   "cell_type": "markdown",
   "metadata": {
    "pycharm": {
     "name": "#%% md\n"
    }
   },
   "source": [
    "### 1.1. Parameters:\n",
    "* **context**: `mlrun.MLClientCtx`\n",
    "\n",
    "    An MLRun context.\n",
    "    \n",
    "* **model**: `str`\n",
    "    \n",
    "    The model Store path, a logged model URI.\n",
    "    \n",
    "* **dataset**: `Union[mlrun.DataItem, list, dict, pd.DataFrame, pd.Series, np.ndarray]`\n",
    "    \n",
    "    The dataset to infer through the model.\n",
    "    * Can be passed in `inputs` as either a Dataset artifact / Feature vector URI.\n",
    "    * Or, in `parameters` as a list, dictionary or numpy array.\n",
    "    \n",
    "    \n",
    "* **drop_columns**: `Union[str, List[str], int, List[int]]` = `None`\n",
    "    \n",
    "    A string / integer or a list of strings / integers that represent the column names / indices to drop. When the dataset is a list or a numpy array this parameter must be represented by integers.\n",
    "    \n",
    "* **label_columns**: `Union[str, List[str]]` = `None`\n",
    "    \n",
    "    The target label(s) of the column(s) in the dataset. These names will be used as the column names for the predictions. The label column can be accessed from the model object, or the feature vector provided if available. The default name is `\"predicted_label_i\"` for the `i` column.\n",
    "\n",
    "* **log_result_set**: `str` = `True`\n",
    "    \n",
    "    Whether to log the result set - a DataFrame of the given inputs concatenated with the predictions. Defaulted to `True`.\n",
    "\n",
    "* **result_set_name**: `str` = `\"prediction\"`\n",
    "    \n",
    "    The db key to set name of the prediction result and the filename. Defaulted to `\"prediction\"`.\n",
    "\n",
    "* **batch_id**: `str` = `None`\n",
    "\n",
    "    The ID of the given batch (inference dataset). If `None`, it will be generated. Will be logged as a result of the run.\n",
    "\n",
    "* **perform_drift_analysis**: `bool` = `None`\n",
    "    \n",
    "    Whether to perform drift analysis between the sample set of the model object to the dataset given. By default, `None`, which means it will perform drift analysis if the model has a sample set statistics.\n",
    "\n",
    "\n",
    "* **sample_set**: `Union[mlrun.DataItem, list, dict, pd.DataFrame, pd.Series, np.ndarray]`\n",
    "    \n",
    "    A sample dataset to give to compare the inputs in the drift analysis. The default chosen sample set will always be the one who is set in the model artifact itself.\n",
    "    * Can be passed in `inputs` as either a Dataset artifact / Feature vector URI.\n",
    "    * Or, in `parameters` as a list, dictionary or numpy array.\n",
    "\n",
    "\n",
    "* **drift_threshold**: `float` = `0.7`\n",
    "    \n",
    "    The threshold of which to mark drifts. Defaulted to 0.7.\n",
    "\n",
    "* **possible_drift_threshold**: `float` = `0.5`\n",
    "    \n",
    "    The threshold of which to mark possible drifts. Defaulted to 0.5.\n",
    "\n",
    "* **inf_capping**: `float` = `10.0`\n",
    "    \n",
    "    The value to set for when it reached infinity. Defaulted to 10.0.\n",
    "\n",
    "* **artifacts_tag**: `str` = `\"\"`\n",
    "    \n",
    "    Tag to use for all the artifacts resulted from the function. Defaulted to no tag."
   ]
  },
  {
   "cell_type": "markdown",
   "metadata": {
    "pycharm": {
     "name": "#%% md\n"
    }
   },
   "source": [
    "### 1.2. Outputs\n",
    "\n",
    "The outputs are split to two actions the functions can perform:\n",
    "* [**Results Prediction**](#chapter2) - Will log:\n",
    "    * A dataset artifact named by the `result_set_name` parameter.\n",
    "    * A `str` result named `\"batch_id\"` of the given / generated batch ID.\n",
    "\n",
    "* [**Data Drift Analysis**](#chapter3) - Will log:\n",
    "    * A `plotly` artifact named `\"data_drift_table\"` with a visualization of the drifts results and histograms.\n",
    "    * A json artifact named `\"features_drift_results\"` with all the features metric values.\n",
    "    * A `bool` result named `\"drift_status\"` of the overall drift status (`True` if there was a drift and `False` otherwise).\n",
    "    * A `float` result named `\"drift_score\"` of the overall drift metric score.\n",
    "\n",
    "For more details, see the next chapters."
   ]
  },
  {
   "cell_type": "markdown",
   "metadata": {
    "pycharm": {
     "name": "#%% md\n"
    }
   },
   "source": [
    "<a id=\"chapter2\"></a>\n",
    "## 2. Results Prediction\n",
    "\n",
    "The result set is a concatenated dataset of the inputs ($X$) provided and the predictions ($Y$) yielded by the model, so it will be $X | Y$.\n",
    "\n",
    "For example, if the `dataset` given as inputs was:\n",
    "\n",
    "| x1  | x2  | x3  | x4  | x5  |\n",
    "|-----|-----|-----|-----|-----|\n",
    "| ... | ... | ... | ... | ... |\n",
    "| ... | ... | ... | ... | ... |\n",
    "| ... | ... | ... | ... | ... |\n",
    "\n",
    "And the outputs yielded by the model's prediction was:\n",
    "\n",
    "| y1  | y2  |\n",
    "|-----|-----|\n",
    "| ... | ... |\n",
    "| ... | ... |\n",
    "| ... | ... |\n",
    "\n",
    "Then the result set will be:\n",
    "\n",
    "| x1  | x2  | x3  | x4  | x5  | y1  | y2  |\n",
    "|-----|-----|-----|-----|-----|-----|-----|\n",
    "| ... | ... | ... | ... | ... | ... | ... |\n",
    "| ... | ... | ... | ... | ... | ... | ... |\n",
    "| ... | ... | ... | ... | ... | ... | ... |\n",
    "\n",
    "In case the parameter `log_result_set` is `True`, the outputs of the results prediction will be:\n",
    "* The result set as described above.\n",
    "* The batch ID result - `batch_id`: `str` - a hashing result that is given by the user or generated randomly in case it was not provided to represent the batch that was being inferred.\n",
    "\n",
    "  ```python\n",
    "  {\n",
    "      \"batch_id\": \"884a0cb00d8ae16d132dd8259aac29aa78f50a9245d0e4bd58cfbf77\",\n",
    "  }\n",
    "  ```\n"
   ]
  },
  {
   "cell_type": "markdown",
   "metadata": {
    "pycharm": {
     "name": "#%% md\n"
    }
   },
   "source": [
    "<a id=\"chapter3\"></a>\n",
    "## 3. Data Drift Analysis\n",
    "\n",
    "The data drift analysis is done per feature using two distance measure metrics for probability distributions.\n",
    "\n",
    "Let us mark our sample set as $S$ and our inputs as $I$. We will look at one feature $x$ out of $n$ features. Assuming the histograms of feature $x$ is split into 20 bins: $b_1,b_2,...,b_{20}$, we will match the feature $x$ histogram of the inputs $I$ ($x_I$) into the same bins (meaning to $x_S$) and compare their distributions using:\n",
    "\n",
    "* Total Variance Distance: $TVD(x_S,x_I) = \\frac{1}{2}\\sum_{b_1}^{b_{20}} {|x_S - x_I|}$\n",
    "* Hellinger Distance: $H(x_S,x_I) = \\sqrt{1-{\\sum_{b_1}^{b_{20}}\\sqrt{x_S \\cdot x_I}}}$\n",
    "\n",
    "Our **rule** then is calculating for each $x\\in S: \\frac{H(x_S,x_I)+TVD(x_S,x_I)}{2} < $ given thresholds.\n",
    "\n",
    "In case the parameter `perform_drift_analysis` is `True`, the outputs of the analysis will be:\n",
    "* **Drift table plot** - The results are presented in a `plotly` table artifact named `\"drift_table_plot\"` that shows each feature's statistics and its TVD, Hellinger and KLD (Kullback–Leibler divergence) results as follows:\n",
    "\n",
    "|        | Count      |            | Mean       |            | Std        |            | Min        |            | Max        |            | Tvd | Hellinger | Kld | Histograms |\n",
    "| ------ | ---------- | ---------- | ---------- | ---------- | ---------- | ---------- | ---------- | ---------- | ---------- | ---------- | --- | --------- | --- |------------|\n",
    "|        | **Sample** | **Input**  | **Sample** | **Input**  | **Sample** | **Input**  | **Sample** | **Input**  | **Sample** | **Input**  |     |           |     |            |\n",
    "| **x1** | ...        | ...        | ...        | ...        | ...        | ...        | ...        | ...        | ...        | ...        | ... | ...       | ... | ...        |\n",
    "| **x2** | ...        | ...        | ...        | ...        | ...        | ...        | ...        | ...        | ...        | ...        | ... | ...       | ... | ...        |\n",
    "| **x3** | ...        | ...        | ...        | ...        | ...        | ...        | ...        | ...        | ...        | ...        | ... | ...       | ... | ...        |\n",
    "\n",
    "* **Features drift results** - A rule metric per feature dictionary is saved in a json file named `\"features_drift_results\"` where each key is a feature and its value is the feature's metric value: `Dict[str, float]`\n",
    "\n",
    "  ```python\n",
    "  {\n",
    "      \"x1\": 0.12,\n",
    "      \"x2\": 0.345,\n",
    "      \"x3\": 0.00678,\n",
    "      ...\n",
    "  }\n",
    "  ```\n",
    "\n",
    "* In addition, two results are being added to summarize the drift analysis:\n",
    "\n",
    "    * `drift_status`: `bool` - A boolean value indicating whether a drift was found.\n",
    "    * `drift_metric`: `float` - The mean of all the features drift metric value (the rule above):\n",
    "        for $n$ features and metric rule $M(x_S,x_I)=\\frac{H(x_S,x_I)+TVD(x_S,x_I)}{2}$, `drift_metric` $=\\frac{1}{n}\\sum_{x\\in S}M(x_S,x_I)$\n",
    "\n",
    "    ```python\n",
    "    {\n",
    "        \"drift_status\": True,\n",
    "        \"drift_metric\": 0.81234\n",
    "    }\n",
    "    ```"
   ]
  },
  {
   "cell_type": "markdown",
   "metadata": {
    "pycharm": {
     "name": "#%% md\n"
    }
   },
   "source": [
    "<a id=\"chapter4\"></a>\n",
    "## 4. End-to-end Demo\n",
    "\n",
    "We will see an end-to-end example that follows the steps below:\n",
    "1. Generate data.\n",
    "2. Train a model.\n",
    "3. Infer data through the model using `batch_predict` and review the outputs."
   ]
  },
  {
   "cell_type": "markdown",
   "metadata": {
    "pycharm": {
     "name": "#%% md\n"
    }
   },
   "source": [
    "### 4.1. Code review\n",
    "\n",
    "We are using a very simple example of training a decision tree on a binary classification problem. For that we wrote two functions:\n",
    "* `generate_data` - Generate a binary classification data. The data will be split into a *training set* and *data for prediction*. The data for prediction will be drifted in half of its features to showcase the plot later on.\n",
    "* `train` - Train a decision tree classifier on a given data."
   ]
  },
  {
   "cell_type": "code",
   "execution_count": null,
   "metadata": {
    "collapsed": false,
    "jupyter": {
     "outputs_hidden": false
    },
    "pycharm": {
     "name": "#%%\n"
    }
   },
   "outputs": [],
   "source": [
    "# mlrun: start-code"
   ]
  },
  {
   "cell_type": "code",
   "execution_count": null,
   "metadata": {
    "collapsed": false,
    "jupyter": {
     "outputs_hidden": false
    },
    "pycharm": {
     "name": "#%%\n"
    }
   },
   "outputs": [],
   "source": [
    "%pip install mlrun scikit-learn~=1.0"
   ]
  },
  {
   "cell_type": "code",
   "execution_count": null,
   "metadata": {
    "collapsed": false,
    "jupyter": {
     "outputs_hidden": false
    },
    "pycharm": {
     "name": "#%%\n"
    }
   },
   "outputs": [],
   "source": [
    "# upload environment variables from env file if exists\n",
    "import os,mlrun\n",
    "\n",
    "# Specify path\n",
    "path = \"/tmp/examples_ci.env\"\n",
    "\n",
    "if os.path.exists(path):\n",
    "    env_dict = mlrun.set_env_from_file(path, return_dict=True)"
   ]
  },
  {
   "cell_type": "code",
   "execution_count": null,
   "metadata": {},
   "outputs": [],
   "source": [
    "project = mlrun.get_or_create_project(\"batch-inference\", \"./\", user_project=True)\n",
    "project.set_model_monitoring_credentials(endpoint_store_connection=\"v3io\", stream_path=\"v3io\", tsdb_connection=\"v3io\")"
   ]
  },
  {
   "cell_type": "code",
   "execution_count": null,
   "metadata": {
    "collapsed": false,
    "jupyter": {
     "outputs_hidden": false
    },
    "pycharm": {
     "name": "#%%\n"
    }
   },
   "outputs": [],
   "source": [
    "import numpy as np\n",
    "import pandas as pd\n",
    "\n",
    "from sklearn.datasets import make_classification\n",
    "from sklearn.tree import DecisionTreeClassifier\n",
    "\n",
    "import mlrun\n",
    "from mlrun.frameworks.sklearn import apply_mlrun\n",
    "\n",
    "\n",
    "@mlrun.handler(outputs=[\"training_set\", \"prediction_set\"])\n",
    "def generate_data(n_samples: int = 5000, n_features: int = 20):\n",
    "    # Generate a classification data:\n",
    "    x, y = make_classification(\n",
    "        n_samples=n_samples, n_features=n_features, n_classes=2\n",
    "    )\n",
    "\n",
    "    # Split the data into a training set and a prediction set:\n",
    "    x_train, x_prediction = x[: n_samples // 2], x[n_samples // 2 :]\n",
    "    y_train = y[: n_samples // 2]\n",
    "    \n",
    "    # Randomly drift some features:\n",
    "    x_prediction += (\n",
    "        np.random.uniform(low=2, high=4, size=x_train.shape) * \n",
    "        np.random.randint(low=0, high=2, size=x_train.shape[1], dtype=int)\n",
    "    )\n",
    "    \n",
    "    # Initialize dataframes:\n",
    "    features = [f\"feature_{i}\" for i in range(n_features)]\n",
    "    training_set = pd.DataFrame(data=x_train, columns=features)\n",
    "    training_set.insert(\n",
    "        loc=n_features, column=\"label\", value=y_train, allow_duplicates=True\n",
    "    )\n",
    "    prediction_set = pd.DataFrame(data=x_prediction, columns=features)\n",
    "\n",
    "    return training_set, prediction_set\n",
    "\n",
    "\n",
    "@mlrun.handler()\n",
    "def train(training_set: pd.DataFrame):\n",
    "    # Get the data into x, y:\n",
    "    labels = pd.DataFrame(training_set[\"label\"])\n",
    "    training_set.drop(columns=[\"label\"], inplace=True)\n",
    "\n",
    "    # Initialize a model:\n",
    "    model = DecisionTreeClassifier()\n",
    "\n",
    "    # Apply MLRun:\n",
    "    apply_mlrun(model=model, model_name=\"model\")\n",
    "\n",
    "    # Train:\n",
    "    model.fit(training_set, labels)"
   ]
  },
  {
   "cell_type": "code",
   "execution_count": null,
   "metadata": {
    "collapsed": false,
    "jupyter": {
     "outputs_hidden": false
    },
    "pycharm": {
     "name": "#%%\n"
    }
   },
   "outputs": [],
   "source": [
    "# mlrun: end-code"
   ]
  },
  {
   "cell_type": "markdown",
   "metadata": {
    "pycharm": {
     "name": "#%% md\n"
    }
   },
   "source": [
    "### 4.2. Run the Example with MLRun\n",
    "\n",
    "First, we will prepare our MLRun functions:\n",
    "1. We will use `mlrun.code_to_function` to turn this demo notebook into an MLRun function we can run.\n",
    "2. We will use `mlrun.import_function` to import the `batch_predict` function ."
   ]
  },
  {
   "cell_type": "code",
   "execution_count": null,
   "metadata": {
    "collapsed": false,
    "jupyter": {
     "outputs_hidden": false
    },
    "pycharm": {
     "name": "#%%\n"
    }
   },
   "outputs": [],
   "source": [
    "# Create an MLRun function to run the notebook:\n",
    "demo_function = mlrun.code_to_function(name=\"batch_inference_demo\", kind=\"job\")\n",
    "demo_function.apply(mlrun.mount_v3io())\n",
    "\n",
    "# Import the `batch_predict` function from the marketplace:\n",
    "batch_inference_function = mlrun.import_function(\"hub://batch_inference_v2\")\n",
    "batch_inference_function.apply(mlrun.mount_v3io())\n",
    "\n",
    "# Set the desired artifact path:\n",
    "artifact_path = \"/v3io/bigdata/artifacts\""
   ]
  },
  {
   "cell_type": "markdown",
   "metadata": {
    "pycharm": {
     "name": "#%% md\n"
    }
   },
   "source": [
    "Now, we will follow the demo steps as discussed above:"
   ]
  },
  {
   "cell_type": "code",
   "execution_count": null,
   "metadata": {
    "collapsed": false,
    "jupyter": {
     "outputs_hidden": false
    },
    "pycharm": {
     "name": "#%%\n"
    }
   },
   "outputs": [],
   "source": [
    "# 1. Generate data:\n",
    "generate_data_run = demo_function.run(\n",
    "    handler=\"generate_data\",\n",
    "    artifact_path=artifact_path,\n",
    "    auto_build=True)"
   ]
  },
  {
   "cell_type": "code",
   "execution_count": null,
   "metadata": {
    "collapsed": false,
    "jupyter": {
     "outputs_hidden": false
    },
    "pycharm": {
     "name": "#%%\n"
    }
   },
   "outputs": [],
   "source": [
    "# 2. Train a model:\n",
    "train_run = demo_function.run(\n",
    "    handler=\"train\",\n",
    "    artifact_path=artifact_path,\n",
    "    inputs={\"training_set\": generate_data_run.outputs[\"training_set\"]},\n",
    "    auto_build=True)"
   ]
  },
  {
   "cell_type": "code",
   "execution_count": null,
   "metadata": {
    "collapsed": false,
    "jupyter": {
     "outputs_hidden": false
    },
    "pycharm": {
     "name": "#%%\n"
    }
   },
   "outputs": [],
   "source": [
    "# 3. Perform batch prediction:\n",
    "batch_inference_run = batch_inference_function.run(\n",
    "    handler=\"infer\", local=True,\n",
    "    artifact_path=artifact_path,\n",
    "    inputs={\"dataset\": generate_data_run.outputs[\"prediction_set\"]},\n",
    "    params={\n",
    "        \"model_path\": train_run.outputs[\"model\"],\n",
    "        \"label_columns\": \"label\"})"
   ]
  },
  {
   "cell_type": "markdown",
   "metadata": {
    "pycharm": {
     "name": "#%% md\n"
    }
   },
   "source": [
    "### 4.3. Review Outputs\n",
    "\n",
    "We will review the outputs as explained in the notebook above."
   ]
  },
  {
   "cell_type": "markdown",
   "metadata": {
    "pycharm": {
     "name": "#%% md\n"
    }
   },
   "source": [
    "#### 4.3.1. Results Prediction\n",
    "\n",
    "First we will showcase the **Result Set**. As we didn't send any name, it's default name will be `\"prediction\"`:"
   ]
  },
  {
   "cell_type": "code",
   "execution_count": null,
   "metadata": {
    "collapsed": false,
    "jupyter": {
     "outputs_hidden": false
    },
    "pycharm": {
     "name": "#%%\n"
    }
   },
   "outputs": [],
   "source": [
    "batch_inference_run.artifact(\"prediction\").as_df()"
   ]
  },
  {
   "cell_type": "markdown",
   "metadata": {
    "pycharm": {
     "name": "#%% md\n"
    }
   },
   "source": [
    "#### 4.3.2. Data Drift Analysis\n",
    "\n",
    "Second we will review the data drift table plot and the drift results:"
   ]
  },
  {
   "cell_type": "code",
   "execution_count": null,
   "metadata": {
    "collapsed": false,
    "jupyter": {
     "outputs_hidden": false
    },
    "pycharm": {
     "name": "#%%\n"
    }
   },
   "outputs": [],
   "source": [
    "# skipped due to ML-6781\n",
    "# batch_inference_run.artifact(\"drift_table_plot\").show()"
   ]
  },
  {
   "cell_type": "code",
   "execution_count": null,
   "metadata": {
    "collapsed": false,
    "jupyter": {
     "outputs_hidden": false
    },
    "pycharm": {
     "name": "#%%\n"
    }
   },
   "outputs": [],
   "source": [
    "batch_inference_run.status.results"
   ]
  },
  {
   "cell_type": "code",
   "execution_count": null,
   "metadata": {},
   "outputs": [],
   "source": [
    "project.set_function(demo_function, name=\"demo_function\", kind=\"job\", image=\"mlrun/mlrun\")\n",
    "project.set_function(batch_inference_function, name=\"batch_inference_function\", kind=\"job\", image=\"mlrun/mlrun\")\n",
    "\n",
    "project.save()"
   ]
  },
  {
   "cell_type": "code",
   "execution_count": null,
   "metadata": {
    "pycharm": {
     "name": "#%%\n"
    }
   },
   "outputs": [],
   "source": [
    "%%writefile './workflow.py'\n",
    "\n",
    "from kfp import dsl\n",
    "import mlrun\n",
    "\n",
    "artifact_path = \"./\"\n",
    "\n",
    "# Create a Kubeflow Pipelines pipeline\n",
    "@dsl.pipeline(name=\"batch-infer-demo\")\n",
    "def pipeline():\n",
    "    # run the ingestion function with the new image and params\n",
    "    generate_run = mlrun.run_function(\n",
    "        \"demo_function\",\n",
    "        handler=\"generate_data\",\n",
    "        outputs=[\"training_set\",\"prediction_set\"]\n",
    "    )\n",
    "    \n",
    "    # 2. Train a model:\n",
    "    train_run = mlrun.run_function(\n",
    "        \"demo_function\",\n",
    "        handler=\"train\",\n",
    "        artifact_path=artifact_path,\n",
    "        inputs={\"training_set\": generate_run.outputs[\"training_set\"]},\n",
    "        outputs=[\"model\"]\n",
    "    )\n",
    "\n",
    "    # 3. Perform batch prediction:\n",
    "    batch_inference_run = mlrun.run_function(\n",
    "        \"batch_inference_function\",\n",
    "        handler=\"infer\",\n",
    "        artifact_path=artifact_path,\n",
    "        inputs={\"dataset\": generate_run.outputs[\"prediction_set\"]},\n",
    "        params={\n",
    "            \"model_path\": train_run.outputs[\"model\"],\n",
    "            \"label_columns\": \"label\",\n",
    "            \"model_endpoint_name\": \"batch-infer-pipeline\"\n",
    "        }\n",
    "\n",
    "    )"
   ]
  },
  {
   "cell_type": "code",
   "execution_count": null,
   "metadata": {},
   "outputs": [],
   "source": [
    "# run the workflow\n",
    "run_id = project.run(\n",
    "    workflow_path=\"./workflow.py\",\n",
    "    watch=True)"
   ]
  }
 ],
 "metadata": {
  "kernelspec": {
   "display_name": "mlrun-base",
   "language": "python",
   "name": "conda-env-mlrun-base-py"
  },
  "language_info": {
   "codemirror_mode": {
    "name": "ipython",
    "version": 3
   },
   "file_extension": ".py",
   "mimetype": "text/x-python",
   "name": "python",
   "nbconvert_exporter": "python",
   "pygments_lexer": "ipython3",
   "version": "3.9.18"
  }
 },
 "nbformat": 4,
 "nbformat_minor": 4
}
