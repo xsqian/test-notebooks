{
 "cells": [
  {
   "cell_type": "markdown",
   "id": "5c7db8d2-4b60-42e3-a97b-6fa3349d2331",
   "metadata": {},
   "source": [
    "#  Test change mlrun log formmater as environment variable for jobs runs\n",
    "\n",
    "realted to - https://iguazio.atlassian.net/browse/ML-5763\n",
    "\n",
    "This Notebook checks a use case that if a user add MLRUN_LOG_FORMATTER=value environment variable, the format of the logger for the specific run will change to the environment variable value, for example if i set thie environment variable MLRUN_LOG_FORMATTER='json' the logger will be in json format.\n",
    "\n",
    "Currently we have 3 options for logger format:\n",
    "* human - default value\n",
    "* human_extended\n",
    "* json \n",
    "\n",
    "the test will pass if the mlrun.config.log_formatter value is equal to the one in the environment variable and the logger handler format is equal the expcted formatter object in MLRun"
   ]
  },
  {
   "cell_type": "markdown",
   "id": "a2696438-e6b5-4cf3-b9c0-6bb6c541b198",
   "metadata": {},
   "source": [
    "#### Creathing a project"
   ]
  },
  {
   "cell_type": "code",
   "execution_count": 1,
   "id": "ae2e1ec4-e7f3-4eec-8e3b-a2d3018cf031",
   "metadata": {},
   "outputs": [],
   "source": [
    "import mlrun"
   ]
  },
  {
   "cell_type": "code",
   "execution_count": 2,
   "id": "a26c84ab-5b26-42da-94e3-834628e0bf35",
   "metadata": {},
   "outputs": [
    {
     "name": "stdout",
     "output_type": "stream",
     "text": [
      "> 2024-03-28 10:18:18,797 [info] Project loaded successfully: {'project_name': 'test-logger'}\n"
     ]
    }
   ],
   "source": [
    "project = mlrun.get_or_create_project(\"test-logger\",user_project=True)"
   ]
  },
  {
   "cell_type": "markdown",
   "id": "64186b60-2d7e-4ac9-b256-5f7af3e81834",
   "metadata": {
    "jp-MarkdownHeadingCollapsed": true,
    "tags": []
   },
   "source": [
    "#### Test human format"
   ]
  },
  {
   "cell_type": "code",
   "execution_count": 3,
   "id": "ff18ee58-e395-4339-bb3f-6c911a68e221",
   "metadata": {},
   "outputs": [
    {
     "name": "stdout",
     "output_type": "stream",
     "text": [
      "Overwriting func_with_set_logger_json.py\n"
     ]
    }
   ],
   "source": [
    "%%writefile func_with_set_logger_json.py\n",
    "import mlrun\n",
    "def func(context):\n",
    "    context.logger.set_logger_level(level=\"WARN\")\n",
    "    context.logger.error(\"ERROR\")\n",
    "    context.logger.warn(\"WARN\")\n",
    "    context.logger.debug(\"DEBUG\")\n",
    "    return mlrun.mlconf.log_formatter , type(context.logger.get_handler(\"default\").formatter) == mlrun.utils.HumanReadableFormatter"
   ]
  },
  {
   "cell_type": "code",
   "execution_count": 4,
   "id": "4e93ff53-38b2-4e7f-956c-a03695a7f789",
   "metadata": {},
   "outputs": [],
   "source": [
    "test_func_human = project.set_function(name=\"human-func\",handler=\"func\",func=\"func_with_set_logger_json.py\",image=\"mlrun/mlrun\",kind='job')"
   ]
  },
  {
   "cell_type": "code",
   "execution_count": 5,
   "id": "d09e88ee-6e35-410c-81e2-cce4671c888a",
   "metadata": {},
   "outputs": [
    {
     "data": {
      "text/plain": [
       "<mlrun.runtimes.kubejob.KubejobRuntime at 0x7f9ba2c3fa90>"
      ]
     },
     "execution_count": 5,
     "metadata": {},
     "output_type": "execute_result"
    }
   ],
   "source": [
    "test_func_human.set_env(name=\"MLRUN_LOG_FORMATTER\",value=\"human\")"
   ]
  },
  {
   "cell_type": "code",
   "execution_count": 6,
   "id": "da55502a-6464-4b3f-adb4-dfaa98a27117",
   "metadata": {
    "tags": []
   },
   "outputs": [
    {
     "name": "stdout",
     "output_type": "stream",
     "text": [
      "> 2024-03-28 10:18:18,894 [info] Storing function: {'name': 'human-func-func', 'uid': '69d1da83ca49447a89cb13c7c1e89d66', 'db': 'http://mlrun-api:8080'}\n",
      "> 2024-03-28 10:18:19,266 [info] Job is running in the background, pod: human-func-func-trmfr\n",
      "> 2024-03-28 10:18:22,236 [error] ERROR\n",
      "> 2024-03-28 10:18:22,236 [warning] WARN\n",
      "> 2024-03-28 10:18:22,301 [info] To track results use the CLI: {'info_cmd': 'mlrun get run 69d1da83ca49447a89cb13c7c1e89d66 -p test-logger-shapira', 'logs_cmd': 'mlrun logs 69d1da83ca49447a89cb13c7c1e89d66 -p test-logger-shapira'}\n",
      "> 2024-03-28 10:18:22,301 [info] Or click for UI: {'ui_url': 'https://dashboard.default-tenant.app.cust-cs-il-353.iguazio-cd2.com/mlprojects/test-logger-shapira/jobs/monitor/69d1da83ca49447a89cb13c7c1e89d66/overview'}\n",
      "> 2024-03-28 10:18:22,302 [info] Run execution finished: {'status': 'completed', 'name': 'human-func-func'}\n"
     ]
    },
    {
     "data": {
      "text/html": [
       "<style>\n",
       ".dictlist {\n",
       "  background-color: #4EC64B;\n",
       "  text-align: center;\n",
       "  margin: 4px;\n",
       "  border-radius: 3px; padding: 0px 3px 1px 3px; display: inline-block;}\n",
       ".artifact {\n",
       "  cursor: pointer;\n",
       "  background-color: #4EC64B;\n",
       "  text-align: left;\n",
       "  margin: 4px; border-radius: 3px; padding: 0px 3px 1px 3px; display: inline-block;\n",
       "}\n",
       "div.block.hidden {\n",
       "  display: none;\n",
       "}\n",
       ".clickable {\n",
       "  cursor: pointer;\n",
       "}\n",
       ".ellipsis {\n",
       "  display: inline-block;\n",
       "  max-width: 60px;\n",
       "  white-space: nowrap;\n",
       "  overflow: hidden;\n",
       "  text-overflow: ellipsis;\n",
       "}\n",
       ".master-wrapper {\n",
       "  display: flex;\n",
       "  flex-flow: row nowrap;\n",
       "  justify-content: flex-start;\n",
       "  align-items: stretch;\n",
       "}\n",
       ".master-tbl {\n",
       "  flex: 3\n",
       "}\n",
       ".master-wrapper > div {\n",
       "  margin: 4px;\n",
       "  padding: 10px;\n",
       "}\n",
       "iframe.fileview {\n",
       "  border: 0 none;\n",
       "  height: 100%;\n",
       "  width: 100%;\n",
       "  white-space: pre-wrap;\n",
       "}\n",
       ".pane-header-title {\n",
       "  width: 80%;\n",
       "  font-weight: 500;\n",
       "}\n",
       ".pane-header {\n",
       "  line-height: 1;\n",
       "  background-color: #4EC64B;\n",
       "  padding: 3px;\n",
       "}\n",
       ".pane-header .close {\n",
       "  font-size: 20px;\n",
       "  font-weight: 700;\n",
       "  float: right;\n",
       "  margin-top: -5px;\n",
       "}\n",
       ".master-wrapper .right-pane {\n",
       "  border: 1px inset silver;\n",
       "  width: 40%;\n",
       "  min-height: 300px;\n",
       "  flex: 3\n",
       "  min-width: 500px;\n",
       "}\n",
       ".master-wrapper * {\n",
       "  box-sizing: border-box;\n",
       "}\n",
       "</style><script>\n",
       "function copyToClipboard(fld) {\n",
       "    if (document.queryCommandSupported && document.queryCommandSupported('copy')) {\n",
       "        var textarea = document.createElement('textarea');\n",
       "        textarea.textContent = fld.innerHTML;\n",
       "        textarea.style.position = 'fixed';\n",
       "        document.body.appendChild(textarea);\n",
       "        textarea.select();\n",
       "\n",
       "        try {\n",
       "            return document.execCommand('copy'); // Security exception may be thrown by some browsers.\n",
       "        } catch (ex) {\n",
       "\n",
       "        } finally {\n",
       "            document.body.removeChild(textarea);\n",
       "        }\n",
       "    }\n",
       "}\n",
       "function expandPanel(el) {\n",
       "  const panelName = \"#\" + el.getAttribute('paneName');\n",
       "  console.log(el.title);\n",
       "\n",
       "  document.querySelector(panelName + \"-title\").innerHTML = el.title\n",
       "  iframe = document.querySelector(panelName + \"-body\");\n",
       "\n",
       "  const tblcss = `<style> body { font-family: Arial, Helvetica, sans-serif;}\n",
       "    #csv { margin-bottom: 15px; }\n",
       "    #csv table { border-collapse: collapse;}\n",
       "    #csv table td { padding: 4px 8px; border: 1px solid silver;} </style>`;\n",
       "\n",
       "  function csvToHtmlTable(str) {\n",
       "    return '<div id=\"csv\"><table><tr><td>' +  str.replace(/[\\n\\r]+$/g, '').replace(/[\\n\\r]+/g, '</td></tr><tr><td>')\n",
       "      .replace(/,/g, '</td><td>') + '</td></tr></table></div>';\n",
       "  }\n",
       "\n",
       "  function reqListener () {\n",
       "    if (el.title.endsWith(\".csv\")) {\n",
       "      iframe.setAttribute(\"srcdoc\", tblcss + csvToHtmlTable(this.responseText));\n",
       "    } else {\n",
       "      iframe.setAttribute(\"srcdoc\", this.responseText);\n",
       "    }\n",
       "    console.log(this.responseText);\n",
       "  }\n",
       "\n",
       "  const oReq = new XMLHttpRequest();\n",
       "  oReq.addEventListener(\"load\", reqListener);\n",
       "  oReq.open(\"GET\", el.title);\n",
       "  oReq.send();\n",
       "\n",
       "\n",
       "  //iframe.src = el.title;\n",
       "  const resultPane = document.querySelector(panelName + \"-pane\");\n",
       "  if (resultPane.classList.contains(\"hidden\")) {\n",
       "    resultPane.classList.remove(\"hidden\");\n",
       "  }\n",
       "}\n",
       "function closePanel(el) {\n",
       "  const panelName = \"#\" + el.getAttribute('paneName')\n",
       "  const resultPane = document.querySelector(panelName + \"-pane\");\n",
       "  if (!resultPane.classList.contains(\"hidden\")) {\n",
       "    resultPane.classList.add(\"hidden\");\n",
       "  }\n",
       "}\n",
       "\n",
       "</script>\n",
       "<div class=\"master-wrapper\">\n",
       "  <div class=\"block master-tbl\"><div>\n",
       "<style scoped>\n",
       "    .dataframe tbody tr th:only-of-type {\n",
       "        vertical-align: middle;\n",
       "    }\n",
       "\n",
       "    .dataframe tbody tr th {\n",
       "        vertical-align: top;\n",
       "    }\n",
       "\n",
       "    .dataframe thead th {\n",
       "        text-align: right;\n",
       "    }\n",
       "</style>\n",
       "<table border=\"1\" class=\"dataframe\">\n",
       "  <thead>\n",
       "    <tr style=\"text-align: right;\">\n",
       "      <th>project</th>\n",
       "      <th>uid</th>\n",
       "      <th>iter</th>\n",
       "      <th>start</th>\n",
       "      <th>state</th>\n",
       "      <th>name</th>\n",
       "      <th>labels</th>\n",
       "      <th>inputs</th>\n",
       "      <th>parameters</th>\n",
       "      <th>results</th>\n",
       "      <th>artifacts</th>\n",
       "    </tr>\n",
       "  </thead>\n",
       "  <tbody>\n",
       "    <tr>\n",
       "      <td>test-logger-shapira</td>\n",
       "      <td><div title=\"69d1da83ca49447a89cb13c7c1e89d66\"><a href=\"https://dashboard.default-tenant.app.cust-cs-il-353.iguazio-cd2.com/mlprojects/test-logger-shapira/jobs/monitor/69d1da83ca49447a89cb13c7c1e89d66/overview\" target=\"_blank\" >...c1e89d66</a></div></td>\n",
       "      <td>0</td>\n",
       "      <td>Mar 28 10:18:22</td>\n",
       "      <td>completed</td>\n",
       "      <td>human-func-func</td>\n",
       "      <td><div class=\"dictlist\">v3io_user=shapira</div><div class=\"dictlist\">kind=job</div><div class=\"dictlist\">owner=shapira</div><div class=\"dictlist\">mlrun/client_version=1.6.2-rc5</div><div class=\"dictlist\">mlrun/client_python_version=3.9.16</div><div class=\"dictlist\">host=human-func-func-trmfr</div></td>\n",
       "      <td></td>\n",
       "      <td></td>\n",
       "      <td><div class=\"dictlist\">mlrun_mlconf=human</div><div class=\"dictlist\">formatter_bool_check=True</div></td>\n",
       "      <td></td>\n",
       "    </tr>\n",
       "  </tbody>\n",
       "</table>\n",
       "</div></div>\n",
       "  <div id=\"result6b7810e0-pane\" class=\"right-pane block hidden\">\n",
       "    <div class=\"pane-header\">\n",
       "      <span id=\"result6b7810e0-title\" class=\"pane-header-title\">Title</span>\n",
       "      <span onclick=\"closePanel(this)\" paneName=\"result6b7810e0\" class=\"close clickable\">&times;</span>\n",
       "    </div>\n",
       "    <iframe class=\"fileview\" id=\"result6b7810e0-body\"></iframe>\n",
       "  </div>\n",
       "</div>\n"
      ],
      "text/plain": [
       "<IPython.core.display.HTML object>"
      ]
     },
     "metadata": {},
     "output_type": "display_data"
    },
    {
     "name": "stdout",
     "output_type": "stream",
     "text": [
      "\n"
     ]
    },
    {
     "data": {
      "text/html": [
       "<b> > to track results use the .show() or .logs() methods  or <a href=\"https://dashboard.default-tenant.app.cust-cs-il-353.iguazio-cd2.com/mlprojects/test-logger-shapira/jobs/monitor/69d1da83ca49447a89cb13c7c1e89d66/overview\" target=\"_blank\">click here</a> to open in UI</b>"
      ],
      "text/plain": [
       "<IPython.core.display.HTML object>"
      ]
     },
     "metadata": {},
     "output_type": "display_data"
    },
    {
     "name": "stdout",
     "output_type": "stream",
     "text": [
      "> 2024-03-28 10:18:30,443 [info] Run execution finished: {'status': 'completed', 'name': 'human-func-func'}\n"
     ]
    }
   ],
   "source": [
    "run_human = test_func_human.run(returns=[\"mlrun_mlconf\",\"formatter_bool_check\"])"
   ]
  },
  {
   "cell_type": "code",
   "execution_count": 7,
   "id": "5b4a3560-7180-4214-b86b-134d92a1834d",
   "metadata": {},
   "outputs": [],
   "source": [
    "assert run_human.outputs[\"mlrun_mlconf\"]=='human' and run_human.outputs[\"formatter_bool_check\"] == True"
   ]
  },
  {
   "cell_type": "markdown",
   "id": "8f1a31d8-b3d9-4b83-acdf-700caee72b5b",
   "metadata": {
    "tags": []
   },
   "source": [
    "#### Test human extended format"
   ]
  },
  {
   "cell_type": "code",
   "execution_count": 8,
   "id": "46849d43-d777-462f-9992-8228e5016426",
   "metadata": {},
   "outputs": [
    {
     "name": "stdout",
     "output_type": "stream",
     "text": [
      "Overwriting func_with_set_logger_json.py\n"
     ]
    }
   ],
   "source": [
    "%%writefile func_with_set_logger_json.py\n",
    "import mlrun\n",
    "def func(context):\n",
    "    context.logger.set_logger_level(level=\"WARN\")\n",
    "    context.logger.error(\"ERROR\")\n",
    "    context.logger.warn(\"WARN\")\n",
    "    context.logger.debug(\"DEBUG\")\n",
    "    return mlrun.mlconf.log_formatter , type(context.logger.get_handler(\"default\").formatter) == mlrun.utils.HumanReadableExtendedFormatter"
   ]
  },
  {
   "cell_type": "code",
   "execution_count": 9,
   "id": "79e7177e-e383-40f6-88c3-8ea59a5745c0",
   "metadata": {},
   "outputs": [],
   "source": [
    "test_func_human_extended = project.set_function(name=\"human-extended-func\",handler=\"func\",func=\"func_with_set_logger_json.py\",image=\"mlrun/mlrun\",kind='job')"
   ]
  },
  {
   "cell_type": "code",
   "execution_count": 10,
   "id": "ad1eb8dd-9a3f-467a-852c-c4aeaaeb4cb3",
   "metadata": {},
   "outputs": [
    {
     "data": {
      "text/plain": [
       "<mlrun.runtimes.kubejob.KubejobRuntime at 0x7f9c1f7847c0>"
      ]
     },
     "execution_count": 10,
     "metadata": {},
     "output_type": "execute_result"
    }
   ],
   "source": [
    "test_func_human_extended.set_env(name=\"MLRUN_LOG_FORMATTER\",value=\"human_extended\")"
   ]
  },
  {
   "cell_type": "code",
   "execution_count": 11,
   "id": "ec0a6bd3-6405-44c6-bbb1-1b663b54742f",
   "metadata": {
    "tags": []
   },
   "outputs": [
    {
     "name": "stdout",
     "output_type": "stream",
     "text": [
      "> 2024-03-28 10:18:30,613 [info] Storing function: {'name': 'human-extended-func-func', 'uid': '69d6f5dafcc44709b9cd4fff0be59058', 'db': 'http://mlrun-api:8080'}\n",
      "> 2024-03-28 10:18:31,015 [info] Job is running in the background, pod: human-extended-func-func-mqhkt\n",
      "> 2024-03-28 10:18:33,919 [mlrun:error] ERROR\n",
      "> 2024-03-28 10:18:33,919 [mlrun:warning] WARN\n",
      "> 2024-03-28 10:18:33,985 [mlrun:info] To track results use the CLI: {'info_cmd': 'mlrun get run 69d6f5dafcc44709b9cd4fff0be59058 -p test-logger-shapira', 'logs_cmd': 'mlrun logs 69d6f5dafcc44709b9cd4fff0be59058 -p test-logger-shapira'}\n",
      "> 2024-03-28 10:18:33,985 [mlrun:info] Or click for UI: {'ui_url': 'https://dashboard.default-tenant.app.cust-cs-il-353.iguazio-cd2.com/mlprojects/test-logger-shapira/jobs/monitor/69d6f5dafcc44709b9cd4fff0be59058/overview'}\n",
      "> 2024-03-28 10:18:33,985 [mlrun:info] Run execution finished: {'status': 'completed', 'name': 'human-extended-func-func'}\n"
     ]
    },
    {
     "data": {
      "text/html": [
       "<style>\n",
       ".dictlist {\n",
       "  background-color: #4EC64B;\n",
       "  text-align: center;\n",
       "  margin: 4px;\n",
       "  border-radius: 3px; padding: 0px 3px 1px 3px; display: inline-block;}\n",
       ".artifact {\n",
       "  cursor: pointer;\n",
       "  background-color: #4EC64B;\n",
       "  text-align: left;\n",
       "  margin: 4px; border-radius: 3px; padding: 0px 3px 1px 3px; display: inline-block;\n",
       "}\n",
       "div.block.hidden {\n",
       "  display: none;\n",
       "}\n",
       ".clickable {\n",
       "  cursor: pointer;\n",
       "}\n",
       ".ellipsis {\n",
       "  display: inline-block;\n",
       "  max-width: 60px;\n",
       "  white-space: nowrap;\n",
       "  overflow: hidden;\n",
       "  text-overflow: ellipsis;\n",
       "}\n",
       ".master-wrapper {\n",
       "  display: flex;\n",
       "  flex-flow: row nowrap;\n",
       "  justify-content: flex-start;\n",
       "  align-items: stretch;\n",
       "}\n",
       ".master-tbl {\n",
       "  flex: 3\n",
       "}\n",
       ".master-wrapper > div {\n",
       "  margin: 4px;\n",
       "  padding: 10px;\n",
       "}\n",
       "iframe.fileview {\n",
       "  border: 0 none;\n",
       "  height: 100%;\n",
       "  width: 100%;\n",
       "  white-space: pre-wrap;\n",
       "}\n",
       ".pane-header-title {\n",
       "  width: 80%;\n",
       "  font-weight: 500;\n",
       "}\n",
       ".pane-header {\n",
       "  line-height: 1;\n",
       "  background-color: #4EC64B;\n",
       "  padding: 3px;\n",
       "}\n",
       ".pane-header .close {\n",
       "  font-size: 20px;\n",
       "  font-weight: 700;\n",
       "  float: right;\n",
       "  margin-top: -5px;\n",
       "}\n",
       ".master-wrapper .right-pane {\n",
       "  border: 1px inset silver;\n",
       "  width: 40%;\n",
       "  min-height: 300px;\n",
       "  flex: 3\n",
       "  min-width: 500px;\n",
       "}\n",
       ".master-wrapper * {\n",
       "  box-sizing: border-box;\n",
       "}\n",
       "</style><script>\n",
       "function copyToClipboard(fld) {\n",
       "    if (document.queryCommandSupported && document.queryCommandSupported('copy')) {\n",
       "        var textarea = document.createElement('textarea');\n",
       "        textarea.textContent = fld.innerHTML;\n",
       "        textarea.style.position = 'fixed';\n",
       "        document.body.appendChild(textarea);\n",
       "        textarea.select();\n",
       "\n",
       "        try {\n",
       "            return document.execCommand('copy'); // Security exception may be thrown by some browsers.\n",
       "        } catch (ex) {\n",
       "\n",
       "        } finally {\n",
       "            document.body.removeChild(textarea);\n",
       "        }\n",
       "    }\n",
       "}\n",
       "function expandPanel(el) {\n",
       "  const panelName = \"#\" + el.getAttribute('paneName');\n",
       "  console.log(el.title);\n",
       "\n",
       "  document.querySelector(panelName + \"-title\").innerHTML = el.title\n",
       "  iframe = document.querySelector(panelName + \"-body\");\n",
       "\n",
       "  const tblcss = `<style> body { font-family: Arial, Helvetica, sans-serif;}\n",
       "    #csv { margin-bottom: 15px; }\n",
       "    #csv table { border-collapse: collapse;}\n",
       "    #csv table td { padding: 4px 8px; border: 1px solid silver;} </style>`;\n",
       "\n",
       "  function csvToHtmlTable(str) {\n",
       "    return '<div id=\"csv\"><table><tr><td>' +  str.replace(/[\\n\\r]+$/g, '').replace(/[\\n\\r]+/g, '</td></tr><tr><td>')\n",
       "      .replace(/,/g, '</td><td>') + '</td></tr></table></div>';\n",
       "  }\n",
       "\n",
       "  function reqListener () {\n",
       "    if (el.title.endsWith(\".csv\")) {\n",
       "      iframe.setAttribute(\"srcdoc\", tblcss + csvToHtmlTable(this.responseText));\n",
       "    } else {\n",
       "      iframe.setAttribute(\"srcdoc\", this.responseText);\n",
       "    }\n",
       "    console.log(this.responseText);\n",
       "  }\n",
       "\n",
       "  const oReq = new XMLHttpRequest();\n",
       "  oReq.addEventListener(\"load\", reqListener);\n",
       "  oReq.open(\"GET\", el.title);\n",
       "  oReq.send();\n",
       "\n",
       "\n",
       "  //iframe.src = el.title;\n",
       "  const resultPane = document.querySelector(panelName + \"-pane\");\n",
       "  if (resultPane.classList.contains(\"hidden\")) {\n",
       "    resultPane.classList.remove(\"hidden\");\n",
       "  }\n",
       "}\n",
       "function closePanel(el) {\n",
       "  const panelName = \"#\" + el.getAttribute('paneName')\n",
       "  const resultPane = document.querySelector(panelName + \"-pane\");\n",
       "  if (!resultPane.classList.contains(\"hidden\")) {\n",
       "    resultPane.classList.add(\"hidden\");\n",
       "  }\n",
       "}\n",
       "\n",
       "</script>\n",
       "<div class=\"master-wrapper\">\n",
       "  <div class=\"block master-tbl\"><div>\n",
       "<style scoped>\n",
       "    .dataframe tbody tr th:only-of-type {\n",
       "        vertical-align: middle;\n",
       "    }\n",
       "\n",
       "    .dataframe tbody tr th {\n",
       "        vertical-align: top;\n",
       "    }\n",
       "\n",
       "    .dataframe thead th {\n",
       "        text-align: right;\n",
       "    }\n",
       "</style>\n",
       "<table border=\"1\" class=\"dataframe\">\n",
       "  <thead>\n",
       "    <tr style=\"text-align: right;\">\n",
       "      <th>project</th>\n",
       "      <th>uid</th>\n",
       "      <th>iter</th>\n",
       "      <th>start</th>\n",
       "      <th>state</th>\n",
       "      <th>name</th>\n",
       "      <th>labels</th>\n",
       "      <th>inputs</th>\n",
       "      <th>parameters</th>\n",
       "      <th>results</th>\n",
       "      <th>artifacts</th>\n",
       "    </tr>\n",
       "  </thead>\n",
       "  <tbody>\n",
       "    <tr>\n",
       "      <td>test-logger-shapira</td>\n",
       "      <td><div title=\"69d6f5dafcc44709b9cd4fff0be59058\"><a href=\"https://dashboard.default-tenant.app.cust-cs-il-353.iguazio-cd2.com/mlprojects/test-logger-shapira/jobs/monitor/69d6f5dafcc44709b9cd4fff0be59058/overview\" target=\"_blank\" >...0be59058</a></div></td>\n",
       "      <td>0</td>\n",
       "      <td>Mar 28 10:18:33</td>\n",
       "      <td>completed</td>\n",
       "      <td>human-extended-func-func</td>\n",
       "      <td><div class=\"dictlist\">v3io_user=shapira</div><div class=\"dictlist\">kind=job</div><div class=\"dictlist\">owner=shapira</div><div class=\"dictlist\">mlrun/client_version=1.6.2-rc5</div><div class=\"dictlist\">mlrun/client_python_version=3.9.16</div><div class=\"dictlist\">host=human-extended-func-func-mqhkt</div></td>\n",
       "      <td></td>\n",
       "      <td></td>\n",
       "      <td><div class=\"dictlist\">mlrun_mlconf=human_extended</div><div class=\"dictlist\">formatter_bool_check=True</div></td>\n",
       "      <td></td>\n",
       "    </tr>\n",
       "  </tbody>\n",
       "</table>\n",
       "</div></div>\n",
       "  <div id=\"resultf5a25265-pane\" class=\"right-pane block hidden\">\n",
       "    <div class=\"pane-header\">\n",
       "      <span id=\"resultf5a25265-title\" class=\"pane-header-title\">Title</span>\n",
       "      <span onclick=\"closePanel(this)\" paneName=\"resultf5a25265\" class=\"close clickable\">&times;</span>\n",
       "    </div>\n",
       "    <iframe class=\"fileview\" id=\"resultf5a25265-body\"></iframe>\n",
       "  </div>\n",
       "</div>\n"
      ],
      "text/plain": [
       "<IPython.core.display.HTML object>"
      ]
     },
     "metadata": {},
     "output_type": "display_data"
    },
    {
     "name": "stdout",
     "output_type": "stream",
     "text": [
      "\n"
     ]
    },
    {
     "data": {
      "text/html": [
       "<b> > to track results use the .show() or .logs() methods  or <a href=\"https://dashboard.default-tenant.app.cust-cs-il-353.iguazio-cd2.com/mlprojects/test-logger-shapira/jobs/monitor/69d6f5dafcc44709b9cd4fff0be59058/overview\" target=\"_blank\">click here</a> to open in UI</b>"
      ],
      "text/plain": [
       "<IPython.core.display.HTML object>"
      ]
     },
     "metadata": {},
     "output_type": "display_data"
    },
    {
     "name": "stdout",
     "output_type": "stream",
     "text": [
      "> 2024-03-28 10:18:42,151 [info] Run execution finished: {'status': 'completed', 'name': 'human-extended-func-func'}\n"
     ]
    }
   ],
   "source": [
    "run_human_extended = test_func_human_extended.run(returns=[\"mlrun_mlconf\",\"formatter_bool_check\"])"
   ]
  },
  {
   "cell_type": "code",
   "execution_count": 12,
   "id": "311947e7-35b3-47f3-8f01-980745cf91dc",
   "metadata": {},
   "outputs": [],
   "source": [
    "assert run_human_extended.outputs[\"mlrun_mlconf\"]=='human_extended' and run_human_extended.outputs[\"formatter_bool_check\"] == True"
   ]
  },
  {
   "cell_type": "markdown",
   "id": "52425cfb-19c0-434e-9e91-fe9c59d20f70",
   "metadata": {
    "tags": []
   },
   "source": [
    "#### Test human format"
   ]
  },
  {
   "cell_type": "code",
   "execution_count": 13,
   "id": "953cf5f2-af68-49c3-b0d7-d72dfc3bf892",
   "metadata": {},
   "outputs": [
    {
     "name": "stdout",
     "output_type": "stream",
     "text": [
      "Overwriting func_with_set_logger_json.py\n"
     ]
    }
   ],
   "source": [
    "%%writefile func_with_set_logger_json.py\n",
    "import mlrun\n",
    "def func(context):\n",
    "    context.logger.set_logger_level(level=\"WARN\")\n",
    "    context.logger.error(\"ERROR\")\n",
    "    context.logger.warn(\"WARN\")\n",
    "    context.logger.debug(\"DEBUG\")\n",
    "    return mlrun.mlconf.log_formatter , type(context.logger.get_handler(\"default\").formatter) == mlrun.utils.JSONFormatter"
   ]
  },
  {
   "cell_type": "code",
   "execution_count": 14,
   "id": "0e7d9500-944b-4861-9833-68cafa08408c",
   "metadata": {},
   "outputs": [],
   "source": [
    "test_func_json = project.set_function(name=\"json-func\",handler=\"func\",func=\"func_with_set_logger_json.py\",image=\"mlrun/mlrun\",kind='job')"
   ]
  },
  {
   "cell_type": "code",
   "execution_count": 15,
   "id": "ed95558c-fc33-43db-a239-a73fc161b944",
   "metadata": {},
   "outputs": [
    {
     "data": {
      "text/plain": [
       "<mlrun.runtimes.kubejob.KubejobRuntime at 0x7f9c1f72b8b0>"
      ]
     },
     "execution_count": 15,
     "metadata": {},
     "output_type": "execute_result"
    }
   ],
   "source": [
    "test_func_json.set_env(name=\"MLRUN_LOG_FORMATTER\",value=\"json\")"
   ]
  },
  {
   "cell_type": "code",
   "execution_count": 16,
   "id": "ef836052-aaef-4bb7-a6a4-66baca9e9434",
   "metadata": {
    "tags": []
   },
   "outputs": [
    {
     "name": "stdout",
     "output_type": "stream",
     "text": [
      "> 2024-03-28 10:18:42,257 [info] Storing function: {'name': 'json-func-func', 'uid': 'ade8b7c0dbba43efa98fc3ad74f23839', 'db': 'http://mlrun-api:8080'}\n",
      "> 2024-03-28 10:18:43,120 [info] Job is running in the background, pod: json-func-func-v2b5s\n",
      "{\"datetime\": \"2024-03-28 10:18:46,229\", \"level\": \"error\", \"message\": \"ERROR\", \"with\": {}}\n",
      "{\"datetime\": \"2024-03-28 10:18:46,229\", \"level\": \"warning\", \"message\": \"WARN\", \"with\": {}}\n",
      "{\"datetime\": \"2024-03-28 10:18:46,290\", \"level\": \"info\", \"message\": \"To track results use the CLI\", \"with\": {\"info_cmd\": \"mlrun get run ade8b7c0dbba43efa98fc3ad74f23839 -p test-logger-shapira\", \"logs_cmd\": \"mlrun logs ade8b7c0dbba43efa98fc3ad74f23839 -p test-logger-shapira\"}}\n",
      "{\"datetime\": \"2024-03-28 10:18:46,290\", \"level\": \"info\", \"message\": \"Or click for UI\", \"with\": {\"ui_url\": \"https://dashboard.default-tenant.app.cust-cs-il-353.iguazio-cd2.com/mlprojects/test-logger-shapira/jobs/monitor/ade8b7c0dbba43efa98fc3ad74f23839/overview\"}}\n",
      "{\"datetime\": \"2024-03-28 10:18:46,291\", \"level\": \"info\", \"message\": \"Run execution finished\", \"with\": {\"status\": \"completed\", \"name\": \"json-func-func\"}}\n"
     ]
    },
    {
     "data": {
      "text/html": [
       "<style>\n",
       ".dictlist {\n",
       "  background-color: #4EC64B;\n",
       "  text-align: center;\n",
       "  margin: 4px;\n",
       "  border-radius: 3px; padding: 0px 3px 1px 3px; display: inline-block;}\n",
       ".artifact {\n",
       "  cursor: pointer;\n",
       "  background-color: #4EC64B;\n",
       "  text-align: left;\n",
       "  margin: 4px; border-radius: 3px; padding: 0px 3px 1px 3px; display: inline-block;\n",
       "}\n",
       "div.block.hidden {\n",
       "  display: none;\n",
       "}\n",
       ".clickable {\n",
       "  cursor: pointer;\n",
       "}\n",
       ".ellipsis {\n",
       "  display: inline-block;\n",
       "  max-width: 60px;\n",
       "  white-space: nowrap;\n",
       "  overflow: hidden;\n",
       "  text-overflow: ellipsis;\n",
       "}\n",
       ".master-wrapper {\n",
       "  display: flex;\n",
       "  flex-flow: row nowrap;\n",
       "  justify-content: flex-start;\n",
       "  align-items: stretch;\n",
       "}\n",
       ".master-tbl {\n",
       "  flex: 3\n",
       "}\n",
       ".master-wrapper > div {\n",
       "  margin: 4px;\n",
       "  padding: 10px;\n",
       "}\n",
       "iframe.fileview {\n",
       "  border: 0 none;\n",
       "  height: 100%;\n",
       "  width: 100%;\n",
       "  white-space: pre-wrap;\n",
       "}\n",
       ".pane-header-title {\n",
       "  width: 80%;\n",
       "  font-weight: 500;\n",
       "}\n",
       ".pane-header {\n",
       "  line-height: 1;\n",
       "  background-color: #4EC64B;\n",
       "  padding: 3px;\n",
       "}\n",
       ".pane-header .close {\n",
       "  font-size: 20px;\n",
       "  font-weight: 700;\n",
       "  float: right;\n",
       "  margin-top: -5px;\n",
       "}\n",
       ".master-wrapper .right-pane {\n",
       "  border: 1px inset silver;\n",
       "  width: 40%;\n",
       "  min-height: 300px;\n",
       "  flex: 3\n",
       "  min-width: 500px;\n",
       "}\n",
       ".master-wrapper * {\n",
       "  box-sizing: border-box;\n",
       "}\n",
       "</style><script>\n",
       "function copyToClipboard(fld) {\n",
       "    if (document.queryCommandSupported && document.queryCommandSupported('copy')) {\n",
       "        var textarea = document.createElement('textarea');\n",
       "        textarea.textContent = fld.innerHTML;\n",
       "        textarea.style.position = 'fixed';\n",
       "        document.body.appendChild(textarea);\n",
       "        textarea.select();\n",
       "\n",
       "        try {\n",
       "            return document.execCommand('copy'); // Security exception may be thrown by some browsers.\n",
       "        } catch (ex) {\n",
       "\n",
       "        } finally {\n",
       "            document.body.removeChild(textarea);\n",
       "        }\n",
       "    }\n",
       "}\n",
       "function expandPanel(el) {\n",
       "  const panelName = \"#\" + el.getAttribute('paneName');\n",
       "  console.log(el.title);\n",
       "\n",
       "  document.querySelector(panelName + \"-title\").innerHTML = el.title\n",
       "  iframe = document.querySelector(panelName + \"-body\");\n",
       "\n",
       "  const tblcss = `<style> body { font-family: Arial, Helvetica, sans-serif;}\n",
       "    #csv { margin-bottom: 15px; }\n",
       "    #csv table { border-collapse: collapse;}\n",
       "    #csv table td { padding: 4px 8px; border: 1px solid silver;} </style>`;\n",
       "\n",
       "  function csvToHtmlTable(str) {\n",
       "    return '<div id=\"csv\"><table><tr><td>' +  str.replace(/[\\n\\r]+$/g, '').replace(/[\\n\\r]+/g, '</td></tr><tr><td>')\n",
       "      .replace(/,/g, '</td><td>') + '</td></tr></table></div>';\n",
       "  }\n",
       "\n",
       "  function reqListener () {\n",
       "    if (el.title.endsWith(\".csv\")) {\n",
       "      iframe.setAttribute(\"srcdoc\", tblcss + csvToHtmlTable(this.responseText));\n",
       "    } else {\n",
       "      iframe.setAttribute(\"srcdoc\", this.responseText);\n",
       "    }\n",
       "    console.log(this.responseText);\n",
       "  }\n",
       "\n",
       "  const oReq = new XMLHttpRequest();\n",
       "  oReq.addEventListener(\"load\", reqListener);\n",
       "  oReq.open(\"GET\", el.title);\n",
       "  oReq.send();\n",
       "\n",
       "\n",
       "  //iframe.src = el.title;\n",
       "  const resultPane = document.querySelector(panelName + \"-pane\");\n",
       "  if (resultPane.classList.contains(\"hidden\")) {\n",
       "    resultPane.classList.remove(\"hidden\");\n",
       "  }\n",
       "}\n",
       "function closePanel(el) {\n",
       "  const panelName = \"#\" + el.getAttribute('paneName')\n",
       "  const resultPane = document.querySelector(panelName + \"-pane\");\n",
       "  if (!resultPane.classList.contains(\"hidden\")) {\n",
       "    resultPane.classList.add(\"hidden\");\n",
       "  }\n",
       "}\n",
       "\n",
       "</script>\n",
       "<div class=\"master-wrapper\">\n",
       "  <div class=\"block master-tbl\"><div>\n",
       "<style scoped>\n",
       "    .dataframe tbody tr th:only-of-type {\n",
       "        vertical-align: middle;\n",
       "    }\n",
       "\n",
       "    .dataframe tbody tr th {\n",
       "        vertical-align: top;\n",
       "    }\n",
       "\n",
       "    .dataframe thead th {\n",
       "        text-align: right;\n",
       "    }\n",
       "</style>\n",
       "<table border=\"1\" class=\"dataframe\">\n",
       "  <thead>\n",
       "    <tr style=\"text-align: right;\">\n",
       "      <th>project</th>\n",
       "      <th>uid</th>\n",
       "      <th>iter</th>\n",
       "      <th>start</th>\n",
       "      <th>state</th>\n",
       "      <th>name</th>\n",
       "      <th>labels</th>\n",
       "      <th>inputs</th>\n",
       "      <th>parameters</th>\n",
       "      <th>results</th>\n",
       "      <th>artifacts</th>\n",
       "    </tr>\n",
       "  </thead>\n",
       "  <tbody>\n",
       "    <tr>\n",
       "      <td>test-logger-shapira</td>\n",
       "      <td><div title=\"ade8b7c0dbba43efa98fc3ad74f23839\"><a href=\"https://dashboard.default-tenant.app.cust-cs-il-353.iguazio-cd2.com/mlprojects/test-logger-shapira/jobs/monitor/ade8b7c0dbba43efa98fc3ad74f23839/overview\" target=\"_blank\" >...74f23839</a></div></td>\n",
       "      <td>0</td>\n",
       "      <td>Mar 28 10:18:46</td>\n",
       "      <td>completed</td>\n",
       "      <td>json-func-func</td>\n",
       "      <td><div class=\"dictlist\">v3io_user=shapira</div><div class=\"dictlist\">kind=job</div><div class=\"dictlist\">owner=shapira</div><div class=\"dictlist\">mlrun/client_version=1.6.2-rc5</div><div class=\"dictlist\">mlrun/client_python_version=3.9.16</div><div class=\"dictlist\">host=json-func-func-v2b5s</div></td>\n",
       "      <td></td>\n",
       "      <td></td>\n",
       "      <td><div class=\"dictlist\">mlrun_mlconf=json</div><div class=\"dictlist\">formatter_bool_check=True</div></td>\n",
       "      <td></td>\n",
       "    </tr>\n",
       "  </tbody>\n",
       "</table>\n",
       "</div></div>\n",
       "  <div id=\"resultcba11fda-pane\" class=\"right-pane block hidden\">\n",
       "    <div class=\"pane-header\">\n",
       "      <span id=\"resultcba11fda-title\" class=\"pane-header-title\">Title</span>\n",
       "      <span onclick=\"closePanel(this)\" paneName=\"resultcba11fda\" class=\"close clickable\">&times;</span>\n",
       "    </div>\n",
       "    <iframe class=\"fileview\" id=\"resultcba11fda-body\"></iframe>\n",
       "  </div>\n",
       "</div>\n"
      ],
      "text/plain": [
       "<IPython.core.display.HTML object>"
      ]
     },
     "metadata": {},
     "output_type": "display_data"
    },
    {
     "name": "stdout",
     "output_type": "stream",
     "text": [
      "\n"
     ]
    },
    {
     "data": {
      "text/html": [
       "<b> > to track results use the .show() or .logs() methods  or <a href=\"https://dashboard.default-tenant.app.cust-cs-il-353.iguazio-cd2.com/mlprojects/test-logger-shapira/jobs/monitor/ade8b7c0dbba43efa98fc3ad74f23839/overview\" target=\"_blank\">click here</a> to open in UI</b>"
      ],
      "text/plain": [
       "<IPython.core.display.HTML object>"
      ]
     },
     "metadata": {},
     "output_type": "display_data"
    },
    {
     "name": "stdout",
     "output_type": "stream",
     "text": [
      "> 2024-03-28 10:18:52,262 [info] Run execution finished: {'status': 'completed', 'name': 'json-func-func'}\n"
     ]
    }
   ],
   "source": [
    "run_json = test_func_json.run(returns=[\"mlrun_mlconf\",\"formatter_bool_check\"])"
   ]
  },
  {
   "cell_type": "code",
   "execution_count": 17,
   "id": "0d3cb6c2-f8b1-4c23-b394-ded3c2cdd3d8",
   "metadata": {},
   "outputs": [],
   "source": [
    "assert run_json.outputs[\"mlrun_mlconf\"]=='json' and run_json.outputs[\"formatter_bool_check\"] == True"
   ]
  }
 ],
 "metadata": {
  "kernelspec": {
   "display_name": "mlrun-extended",
   "language": "python",
   "name": "conda-env-mlrun-extended-py"
  },
  "language_info": {
   "codemirror_mode": {
    "name": "ipython",
    "version": 3
   },
   "file_extension": ".py",
   "mimetype": "text/x-python",
   "name": "python",
   "nbconvert_exporter": "python",
   "pygments_lexer": "ipython3",
   "version": "3.9.16"
  }
 },
 "nbformat": 4,
 "nbformat_minor": 5
}
