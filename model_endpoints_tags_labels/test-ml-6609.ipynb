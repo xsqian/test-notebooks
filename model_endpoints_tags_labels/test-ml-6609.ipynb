{
 "cells": [
  {
   "cell_type": "markdown",
   "id": "059a7844-bd2c-4c1b-9185-1ad929855d28",
   "metadata": {},
   "source": [
    "## Notebook for test that model endpoints inherit tags and labels from model artifact"
   ]
  },
  {
   "cell_type": "markdown",
   "id": "0581047c-f8cb-460c-a439-101ef0186f9d",
   "metadata": {},
   "source": [
    "#### Create a project"
   ]
  },
  {
   "cell_type": "code",
   "execution_count": null,
   "id": "7d95e884-d40b-47b7-8e36-a1ec6ba7db06",
   "metadata": {},
   "outputs": [],
   "source": [
    "import mlrun"
   ]
  },
  {
   "cell_type": "code",
   "execution_count": null,
   "id": "4cf0ec0b-0d0e-4d52-9bd4-a8a77bb8fb66",
   "metadata": {},
   "outputs": [],
   "source": [
    "project = mlrun.get_or_create_project(\"testing-model-endpoint\")"
   ]
  },
  {
   "cell_type": "code",
   "execution_count": null,
   "id": "bd9c2776-3ae4-4f72-8dd6-f49d39e1a732",
   "metadata": {},
   "outputs": [],
   "source": [
    "project.set_model_monitoring_credentials(endpoint_store_connection=\"v3io\", stream_path=\"v3io\", tsdb_connection=\"v3io\")"
   ]
  },
  {
   "cell_type": "code",
   "execution_count": null,
   "id": "8d8fab4e-0c63-4c41-ab4c-6d3cac4e308f",
   "metadata": {},
   "outputs": [],
   "source": [
    "# Clean up monitoring data\n",
    "project.disable_model_monitoring(delete_stream_function=True)"
   ]
  },
  {
   "cell_type": "code",
   "execution_count": null,
   "id": "aef36ea9-9e61-43d3-91c1-d202666b381f",
   "metadata": {},
   "outputs": [],
   "source": [
    "project.enable_model_monitoring(wait_for_deployment=True)"
   ]
  },
  {
   "cell_type": "markdown",
   "id": "3113a7ff-406b-482c-823f-2e6c8b4ccbef",
   "metadata": {},
   "source": [
    "### Train and deploy a model with tag==v1 and label test=1"
   ]
  },
  {
   "cell_type": "code",
   "execution_count": null,
   "id": "74109ba8-3a2f-45cf-a10b-4bf0756b22c4",
   "metadata": {},
   "outputs": [],
   "source": [
    "%%writefile train.py\n",
    "from sklearn.datasets import make_classification\n",
    "from mlrun.frameworks.sklearn import apply_mlrun\n",
    "from sklearn.model_selection import train_test_split\n",
    "from sklearn.linear_model import LinearRegression\n",
    "import pickle\n",
    "import pandas as pd\n",
    "\n",
    "def train(context,i):\n",
    "    X,y = make_classification(n_samples=100,n_features=10,random_state=i)\n",
    "    X_train,X_test,y_train,y_test = train_test_split(X,y,train_size=0.8,test_size=0.2,random_state=i)\n",
    "    X_train = pd.DataFrame(X_train)\n",
    "    y_train = pd.DataFrame(y_train,columns=[\"label\"])\n",
    "    training_set = pd.concat([X_train,y_train],axis=1)\n",
    "    model = LinearRegression()\n",
    "    model.fit(X_train,y_train)\n",
    "    context.log_model(key=f\"model\",body=pickle.dumps(model),model_file=f'model_{i}.pkl',training_set=training_set,label_column=\"label\",tag=f\"v{i}\",labels={\"test\":i})\n"
   ]
  },
  {
   "cell_type": "code",
   "execution_count": null,
   "id": "b45f850d-12d5-47de-a911-50db917294af",
   "metadata": {},
   "outputs": [],
   "source": [
    "project.set_function(func='train.py',kind='job',image=\"mlrun/mlrun\",handler='train',name='train')"
   ]
  },
  {
   "cell_type": "code",
   "execution_count": null,
   "id": "5b872435-fdc3-46c4-8cfc-d82899e121fa",
   "metadata": {},
   "outputs": [],
   "source": [
    "i=1"
   ]
  },
  {
   "cell_type": "code",
   "execution_count": null,
   "id": "aa8983c4-fec8-475b-8e7a-0d543a139cf5",
   "metadata": {},
   "outputs": [],
   "source": [
    "run = project.run_function('train',params={\"i\":i})"
   ]
  },
  {
   "cell_type": "code",
   "execution_count": null,
   "id": "e904ed0f-7e32-449e-a300-1ab80678cec9",
   "metadata": {},
   "outputs": [],
   "source": [
    "serving = mlrun.new_function('serving-model',kind='serving',image='mlrun/mlrun')"
   ]
  },
  {
   "cell_type": "code",
   "execution_count": null,
   "id": "77f33115-f06d-4f8d-9f53-7889230e98b7",
   "metadata": {},
   "outputs": [],
   "source": [
    "graph = serving.set_topology(\"flow\", engine=\"sync\")\n",
    "router = graph.add_step(\"*mlrun.serving.ModelRouter\", name=\"model-routing\")"
   ]
  },
  {
   "cell_type": "code",
   "execution_count": null,
   "id": "049572d0-b3c6-4f2b-9b6f-7da97fad613c",
   "metadata": {},
   "outputs": [],
   "source": [
    "models_uri = [model.uri for model in project.list_models(tag=f\"v{i}\")]\n",
    "len(models_uri)"
   ]
  },
  {
   "cell_type": "code",
   "execution_count": null,
   "id": "d449adbc-5fff-43fc-a491-f6d9ff06ab01",
   "metadata": {},
   "outputs": [],
   "source": [
    "from tqdm import tqdm\n",
    "for uri in tqdm(models_uri):\n",
    "    router.add_route(key=f'model',model_path=uri,class_name='mlrun.frameworks.sklearn.SKLearnModelServer')"
   ]
  },
  {
   "cell_type": "code",
   "execution_count": null,
   "id": "bb27506f-e07f-4eb8-9596-019aa71e2323",
   "metadata": {},
   "outputs": [],
   "source": [
    "serving.set_tracking()"
   ]
  },
  {
   "cell_type": "code",
   "execution_count": null,
   "id": "d37c3977-d20a-4ac3-99b7-ae44b8386324",
   "metadata": {},
   "outputs": [],
   "source": [
    "project.deploy_function(serving)"
   ]
  },
  {
   "cell_type": "code",
   "execution_count": null,
   "id": "0bb68331-091b-4709-a3fa-2903439d06c9",
   "metadata": {},
   "outputs": [],
   "source": [
    "inputs = [[-0.13554955389680073,0.0076506575048474225,0.6287761723991921,-0.8751269647375463,-1.0660002219502747,-1.449969473671631,-1.1047354035566603,0.20042964461755708,0.6400321379372533,0.0785128175305061,-0.16572271960124885,0.8553736325613692,-0.4950274467481983,0.3036076443871318,-0.9177524223010839,0.3994151051172195,-0.2588778273252802,0.7705348945630903,0.14223688502019674,-0.722042747480339][:10]]"
   ]
  },
  {
   "cell_type": "code",
   "execution_count": null,
   "id": "5fe381cc-d30c-4d6d-894d-615092ddb378",
   "metadata": {},
   "outputs": [],
   "source": [
    "serving.invoke(f\"/v2/models/model/infer\", {\"inputs\": inputs})"
   ]
  },
  {
   "cell_type": "code",
   "execution_count": null,
   "id": "d19ca08f-7ae2-42e0-b7fa-3ad9717a39a9",
   "metadata": {},
   "outputs": [],
   "source": [
    "db = mlrun.get_run_db()"
   ]
  },
  {
   "cell_type": "code",
   "execution_count": null,
   "id": "c6decf5d-4349-4bed-9a17-9ddf7c10ae61",
   "metadata": {},
   "outputs": [],
   "source": [
    "end_point = db.list_model_endpoints(project=project.name,model=f\"model:v{i}\")[0]"
   ]
  },
  {
   "cell_type": "markdown",
   "id": "a6ddad3e-b655-4ce4-a78f-2f358f02b8c2",
   "metadata": {},
   "source": [
    "#### Test model tag and label"
   ]
  },
  {
   "cell_type": "code",
   "execution_count": null,
   "id": "587b41ea-ed54-4cfb-94ee-674faef86ef4",
   "metadata": {},
   "outputs": [],
   "source": [
    "#test model endpoint labels\n",
    "assert end_point.metadata.labels == {'test': i}"
   ]
  },
  {
   "cell_type": "code",
   "execution_count": null,
   "id": "ad91f60a-f998-4d6a-9782-7026a16b39ac",
   "metadata": {},
   "outputs": [],
   "source": [
    "#test model endpoint tag\n",
    "assert end_point.spec.model.split(\":\")[-1]==f\"v{i}\""
   ]
  },
  {
   "cell_type": "markdown",
   "id": "a179f663-89c3-4e89-91f9-073d5fd34ed9",
   "metadata": {},
   "source": [
    "### Train and deploy a model with tag==v2 and label test=2"
   ]
  },
  {
   "cell_type": "code",
   "execution_count": null,
   "id": "582e62e5-3567-4565-9dea-9d26791387d2",
   "metadata": {},
   "outputs": [],
   "source": [
    "%%writefile train.py\n",
    "from sklearn.datasets import make_classification\n",
    "from mlrun.frameworks.sklearn import apply_mlrun\n",
    "from sklearn.model_selection import train_test_split\n",
    "from sklearn.linear_model import LinearRegression\n",
    "import pickle\n",
    "import pandas as pd\n",
    "\n",
    "def train(context,i):\n",
    "    X,y = make_classification(n_samples=100,n_features=10,random_state=i)\n",
    "    X_train,X_test,y_train,y_test = train_test_split(X,y,train_size=0.8,test_size=0.2,random_state=i)\n",
    "    X_train = pd.DataFrame(X_train)\n",
    "    y_train = pd.DataFrame(y_train,columns=[\"label\"])\n",
    "    training_set = pd.concat([X_train,y_train],axis=1)\n",
    "    model = LinearRegression()\n",
    "    model.fit(X_train,y_train)\n",
    "    context.log_model(key=f\"model\",body=pickle.dumps(model),model_file=f'model_{i}.pkl',training_set=training_set,label_column=\"label\",tag=f\"v{i}\",labels={\"test\":i})\n"
   ]
  },
  {
   "cell_type": "code",
   "execution_count": null,
   "id": "16ecec90-ec75-4bfa-a821-a50972284297",
   "metadata": {},
   "outputs": [],
   "source": [
    "project.set_function(func='train.py',kind='job',image=\"mlrun/mlrun\",handler='train',name='train')"
   ]
  },
  {
   "cell_type": "code",
   "execution_count": null,
   "id": "364a998c-371b-4c1d-8652-b5774a3aabe4",
   "metadata": {},
   "outputs": [],
   "source": [
    "i=2"
   ]
  },
  {
   "cell_type": "code",
   "execution_count": null,
   "id": "bfa4dfa3-6a40-4c8c-85f6-fe85b9fbe3f7",
   "metadata": {},
   "outputs": [],
   "source": [
    "run = project.run_function('train',params={\"i\":i})"
   ]
  },
  {
   "cell_type": "code",
   "execution_count": null,
   "id": "376fbe15-a4ab-4222-9416-ff569bb36e56",
   "metadata": {},
   "outputs": [],
   "source": [
    "serving = mlrun.new_function('serving-model',kind='serving',image='mlrun/mlrun')"
   ]
  },
  {
   "cell_type": "code",
   "execution_count": null,
   "id": "fbdc7df3-684c-4241-9f7a-05b22431c3d2",
   "metadata": {},
   "outputs": [],
   "source": [
    "graph = serving.set_topology(\"flow\", engine=\"sync\")\n",
    "router = graph.add_step(\"*mlrun.serving.ModelRouter\", name=\"model-routing\")"
   ]
  },
  {
   "cell_type": "code",
   "execution_count": null,
   "id": "1f631985-2ba6-4d44-91fe-0a5c15d727ce",
   "metadata": {},
   "outputs": [],
   "source": [
    "models_uri = [model.uri for model in project.list_models(tag=f\"v{i}\")]\n",
    "len(models_uri)"
   ]
  },
  {
   "cell_type": "code",
   "execution_count": null,
   "id": "16e70e9a-f0b7-4ad7-b1ca-46b56c83456f",
   "metadata": {},
   "outputs": [],
   "source": [
    "assert \"v2\" in models_uri[0]"
   ]
  },
  {
   "cell_type": "code",
   "execution_count": null,
   "id": "124ad2c4-7c8b-4c69-8914-979ccfec9602",
   "metadata": {},
   "outputs": [],
   "source": [
    "from tqdm import tqdm\n",
    "for uri in tqdm(models_uri):\n",
    "    router.add_route(key=f'model',model_path=uri,class_name='mlrun.frameworks.sklearn.SKLearnModelServer')"
   ]
  },
  {
   "cell_type": "code",
   "execution_count": null,
   "id": "1d145eac-dfce-47a7-9370-9ecb8fe5eef2",
   "metadata": {},
   "outputs": [],
   "source": [
    "serving.set_tracking()"
   ]
  },
  {
   "cell_type": "code",
   "execution_count": null,
   "id": "d3d9ac6d-9ac3-48a8-9c55-7e30f5deea54",
   "metadata": {},
   "outputs": [],
   "source": [
    "project.deploy_function(serving)"
   ]
  },
  {
   "cell_type": "code",
   "execution_count": null,
   "id": "ddafc632-b09d-4629-84d5-e93a62661a67",
   "metadata": {},
   "outputs": [],
   "source": [
    "inputs = [[-0.13554955389680073,0.0076506575048474225,0.6287761723991921,-0.8751269647375463,-1.0660002219502747,-1.449969473671631,-1.1047354035566603,0.20042964461755708,0.6400321379372533,0.0785128175305061,-0.16572271960124885,0.8553736325613692,-0.4950274467481983,0.3036076443871318,-0.9177524223010839,0.3994151051172195,-0.2588778273252802,0.7705348945630903,0.14223688502019674,-0.722042747480339][:10]]"
   ]
  },
  {
   "cell_type": "code",
   "execution_count": null,
   "id": "c8c650ef-c92c-4d18-a232-8132de6e3342",
   "metadata": {},
   "outputs": [],
   "source": [
    "serving.invoke(f\"/v2/models/model/infer\", {\"inputs\": inputs})"
   ]
  },
  {
   "cell_type": "code",
   "execution_count": null,
   "id": "0dbb7ca4-b009-43e4-b662-24d5b1ae897d",
   "metadata": {},
   "outputs": [],
   "source": [
    "db = mlrun.get_run_db()"
   ]
  },
  {
   "cell_type": "code",
   "execution_count": null,
   "id": "6ea1fd4e-ff31-4807-add5-9005f3b2d011",
   "metadata": {},
   "outputs": [],
   "source": [
    "end_point = db.list_model_endpoints(project=project.name,model=f\"model:v{i}\")[0]"
   ]
  },
  {
   "cell_type": "markdown",
   "id": "66dcca78-9ca8-4621-8dbe-7b109de35428",
   "metadata": {},
   "source": [
    "#### Test model tag and label"
   ]
  },
  {
   "cell_type": "code",
   "execution_count": null,
   "id": "745368be-c9df-4eaa-873f-24df994aa79c",
   "metadata": {},
   "outputs": [],
   "source": [
    "# test model endpoint labels\n",
    "assert end_point.metadata.labels == {'test': i}"
   ]
  },
  {
   "cell_type": "code",
   "execution_count": null,
   "id": "e3896f6c-e4f8-4048-ae2d-d8bf6395dfc1",
   "metadata": {},
   "outputs": [],
   "source": [
    "# test model endpoint tags\n",
    "assert end_point.spec.model.split(\":\")[-1]==f\"v{i}\""
   ]
  },
  {
   "cell_type": "code",
   "execution_count": null,
   "id": "d2b5d185-e95d-4cd3-aefb-04f0d5267de0",
   "metadata": {},
   "outputs": [],
   "source": [
    "db.delete_project(name=project.name, deletion_strategy=\"cascade\")"
   ]
  }
 ],
 "metadata": {
  "kernelspec": {
   "display_name": "mlrun-base",
   "language": "python",
   "name": "conda-env-mlrun-base-py"
  },
  "language_info": {
   "codemirror_mode": {
    "name": "ipython",
    "version": 3
   },
   "file_extension": ".py",
   "mimetype": "text/x-python",
   "name": "python",
   "nbconvert_exporter": "python",
   "pygments_lexer": "ipython3",
   "version": "3.9.18"
  }
 },
 "nbformat": 4,
 "nbformat_minor": 5
}
