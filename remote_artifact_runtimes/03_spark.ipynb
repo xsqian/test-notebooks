{
 "cells": [
  {
   "cell_type": "code",
   "execution_count": null,
   "id": "5c4a4980",
   "metadata": {},
   "outputs": [],
   "source": [
    "import mlrun\n",
    "import os\n",
    "\n",
    "# Initialize the MLRun project object\n",
    "project = mlrun.get_or_create_project('remote-artifacts',user_project=True,context='./')\n",
    "\n",
    "# Required credentials :\n",
    "# AWS_ACCESS_KEY_ID, AWS_SECRET_ACCESS_KEY, GOOGLE_APPLICATION_CREDENTIALS, S3_BUCKET\n",
    "AWS_ACCESS_KEY_ID = os.environ.get('AWS_ACCESS_KEY_ID', None)\n",
    "AWS_SECRET_ACCESS_KEY = os.environ.get('AWS_SECRET_ACCESS_KEY', None)\n",
    "GOOGLE_APPLICATION_CREDENTIALS = os.environ.get('GOOGLE_APPLICATION_CREDENTIALS', None)\n",
    "\n",
    "# Setting as env variables\n",
    "os.environ['AWS_ACCESS_KEY_ID'] = AWS_ACCESS_KEY_ID\n",
    "os.environ['AWS_SECRET_ACCESS_KEY'] = AWS_SECRET_ACCESS_KEY\n",
    "os.environ['GOOGLE_APPLICATION_CREDENTIALS'] = GOOGLE_APPLICATION_CREDENTIALS\n",
    "assert AWS_ACCESS_KEY_ID != None and AWS_SECRET_ACCESS_KEY != None and GOOGLE_APPLICATION_CREDENTIALS != None, \"please provide credentials\"\n",
    "\n",
    "secrets = {'AWS_ACCESS_KEY_ID': AWS_ACCESS_KEY_ID,\n",
    "           'AWS_SECRET_ACCESS_KEY':AWS_SECRET_ACCESS_KEY,\n",
    "           'GOOGLE_APPLICATION_CREDENTIALS': GOOGLE_APPLICATION_CREDENTIALS}\n",
    "\n",
    "project.set_secrets(secrets=secrets, provider='kubernetes')\n",
    "\n",
    "S3_BUCKET = os.environ.get('S3_BUCKET', 'testbucket-igz-temp')\n",
    "\n",
    "assert project.artifact_path != None, 'please run 01_mlrun_job.ipynb'"
   ]
  },
  {
   "cell_type": "code",
   "execution_count": null,
   "id": "d69ae403",
   "metadata": {},
   "outputs": [],
   "source": [
    "#mlrun: start-code\n",
    "from pyspark.sql import SparkSession\n",
    "import mlrun\n",
    "import os\n",
    "import pandas as pd\n",
    "\n",
    "from packaging.version import Version\n",
    "if Version(pd.__version__) > Version(\"2.0.0\"):\n",
    "    pd.DataFrame.iteritems = pd.DataFrame.items\n",
    "\n",
    "\n",
    "def get_dataitem(context: mlrun.MLClientCtx,\n",
    "                             key: str):\n",
    "    \n",
    "    for artifact in context.artifacts:\n",
    "        if artifact['kind'] == 'model' and artifact['metadata'].get('key',None) == key:\n",
    "            return mlrun.get_dataitem(artifact['spec']['target_path'] + artifact['spec']['model_file'])\n",
    "        elif artifact['kind'] == 'dataset' and artifact['metadata'].get('key',None) == key:\n",
    "            return mlrun.get_dataitem(artifact['spec']['target_path'])\n",
    "        elif artifact['metadata'].get('key',None) == key:\n",
    "            return mlrun.get_dataitem(artifact['spec']['target_path'])\n",
    "    context.logger.info('Artifact not found')\n",
    "\n",
    "def spark_func(context: mlrun.MLClientCtx,\n",
    "               artifact_target_path: str):\n",
    "        \n",
    "    spark = SparkSession \\\n",
    "        .builder \\\n",
    "        .appName(\"Python Spark SQL basic example\") \\\n",
    "        .config(\"spark.some.config.option\", \"some-value\") \\\n",
    "        .config(\"fs.s3a.access.key\", context.get_secret('AWS_ACCESS_KEY_ID'))\\\n",
    "        .config(\"fs.s3a.secret.key\", context.get_secret('AWS_SECRET_ACCESS_KEY'))\\\n",
    "        .config(\"spark.hadoop.fs.s3a.impl\", \"org.apache.hadoop.fs.s3a.S3AFileSystem\")\\\n",
    "        .config(\"com.amazonaws.services.s3.enableV4\", True)\\\n",
    "        .config(\"spark.driver.extraJavaOptions\", \"-Dcom.amazonaws.services.s3.enableV4=true\")\\\n",
    "        .getOrCreate()\n",
    "        \n",
    "    context.log_artifact('spark_s3_artifact', local_path=artifact_target_path)\n",
    "    context.logger.info('artifact logged')\n",
    "    \n",
    "    df = get_dataitem(context, 'spark_s3_artifact').as_df()\n",
    "    context.logger.info('getting logged artifact with custom function')\n",
    "    sparkDF = spark.createDataFrame(df)\n",
    "    sparkDF.show()\n",
    "    sparkDF.write.format('csv').save(artifact_target_path)\n",
    "    \n",
    "#mlrun: end-code"
   ]
  },
  {
   "cell_type": "code",
   "execution_count": null,
   "id": "c86377df",
   "metadata": {},
   "outputs": [],
   "source": [
    "# For Spark operator\n",
    "from mlrun.runtimes import Spark3Runtime\n",
    "Spark3Runtime.deploy_default_image()"
   ]
  },
  {
   "cell_type": "code",
   "execution_count": null,
   "id": "29b2a910",
   "metadata": {},
   "outputs": [],
   "source": [
    "sj = mlrun.code_to_function(name='spark_func', \n",
    "                            kind='spark', \n",
    "                            image='.spark-job-default-image',\n",
    "                            handler='spark_func')\n",
    "\n",
    "# set spark driver config (gpu_type & gpus=<number_of_gpus>  supported too)\n",
    "sj.with_driver_limits(cpu=\"500m\")\n",
    "sj.with_driver_requests(cpu=1, mem=\"512m\") \n",
    "\n",
    "# set spark executor config (gpu_type & gpus=<number_of_gpus> are supported too)\n",
    "sj.with_executor_limits(cpu=\"500m\")\n",
    "sj.with_executor_requests(cpu=1, mem=\"512m\")\n",
    "\n",
    "# adds fuse, daemon & iguazio's jars support\n",
    "sj.with_igz_spark() \n",
    "\n",
    "project.set_function(name = 'spark_func', func=sj)\n",
    "project.get_function('spark_func').apply(mlrun.platforms.mount_s3())\n",
    "\n",
    "task = mlrun.new_task().with_secrets(\"kubernetes\", [\"AWS_ACCESS_KEY_ID\", \"AWS_SECRET_ACCESS_KEY\", \"GOOGLE_APPLICATION_CREDENTIALS\"])"
   ]
  },
  {
   "cell_type": "code",
   "execution_count": null,
   "id": "00c52d23",
   "metadata": {},
   "outputs": [],
   "source": [
    "project.get_artifact('log-transactions-log-transactions_iris_dataset-s3').target_path"
   ]
  },
  {
   "cell_type": "code",
   "execution_count": null,
   "id": "cac4f0e3",
   "metadata": {},
   "outputs": [],
   "source": [
    "project.get_function('spark_func').run(task,\n",
    "                                       inputs = {'artifact_target_path': project.get_artifact('log-transactions-log-transactions_iris_dataset-s3').target_path},\n",
    "                                       local=True)"
   ]
  },
  {
   "cell_type": "markdown",
   "id": "724b9fb3",
   "metadata": {},
   "source": [
    "## Cleaup"
   ]
  },
  {
   "cell_type": "code",
   "execution_count": null,
   "id": "9ade17d6",
   "metadata": {},
   "outputs": [],
   "source": [
    "import boto3\n",
    "from urllib.parse import urlparse\n",
    "\n",
    "\n",
    "s3 = boto3.resource('s3')\n",
    "bucket = s3.Bucket(urlparse(project.artifact_path).netloc)\n",
    "bucket.objects.filter(Prefix=urlparse(project.artifact_path).path[1:]).delete()\n",
    "mlrun.get_run_db().delete_project(name=project.name, deletion_strategy='cascade')"
   ]
  },
  {
   "cell_type": "code",
   "execution_count": null,
   "id": "628779a4",
   "metadata": {},
   "outputs": [],
   "source": [
    "import shutil\n",
    "for f in os.listdir():\n",
    "    if (not f.endswith('ipynb')) and f != '.test':\n",
    "        if os.path.isfile(f):\n",
    "            os.remove(f)\n",
    "        elif os.path.isdir(f):\n",
    "            shutil.rmtree(f)\n",
    "        else:\n",
    "            raise \"A file that is not a notebook wasn't deleted\""
   ]
  }
 ],
 "metadata": {
  "kernelspec": {
   "display_name": "mlrun-base",
   "language": "python",
   "name": "conda-env-mlrun-base-py"
  },
  "language_info": {
   "codemirror_mode": {
    "name": "ipython",
    "version": 3
   },
   "file_extension": ".py",
   "mimetype": "text/x-python",
   "name": "python",
   "nbconvert_exporter": "python",
   "pygments_lexer": "ipython3",
   "version": "3.9.16"
  }
 },
 "nbformat": 4,
 "nbformat_minor": 5
}
